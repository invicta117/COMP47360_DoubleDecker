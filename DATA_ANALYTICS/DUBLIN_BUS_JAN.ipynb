{
 "cells": [
  {
   "cell_type": "code",
   "execution_count": 1,
   "metadata": {
    "execution": {
     "iopub.execute_input": "2021-06-27T13:55:39.261203Z",
     "iopub.status.busy": "2021-06-27T13:55:39.261203Z",
     "iopub.status.idle": "2021-06-27T13:55:44.897727Z",
     "shell.execute_reply": "2021-06-27T13:55:44.893729Z"
    }
   },
   "outputs": [],
   "source": [
    "import pandas as pd\n",
    "import datetime\n",
    "import numpy as np\n",
    "from joblib import dump, load\n",
    "\n",
    "from sklearn.model_selection import train_test_split\n",
    "from sklearn.linear_model import LinearRegression\n",
    "from sklearn import metrics"
   ]
  },
  {
   "cell_type": "markdown",
   "metadata": {},
   "source": [
    "# Load the Data"
   ]
  },
  {
   "cell_type": "code",
   "execution_count": 2,
   "metadata": {
    "execution": {
     "iopub.execute_input": "2021-06-27T13:55:44.901726Z",
     "iopub.status.busy": "2021-06-27T13:55:44.901726Z",
     "iopub.status.idle": "2021-06-27T13:55:44.984984Z",
     "shell.execute_reply": "2021-06-27T13:55:44.984984Z"
    }
   },
   "outputs": [],
   "source": [
    "df = pd.read_csv(\"./RAW_DATA/dublinbus_jan.csv\")"
   ]
  },
  {
   "cell_type": "markdown",
   "metadata": {},
   "source": [
    "### Information on the data"
   ]
  },
  {
   "cell_type": "markdown",
   "metadata": {},
   "source": [
    "Print the number of rows and columns for the data"
   ]
  },
  {
   "cell_type": "code",
   "execution_count": 3,
   "metadata": {
    "execution": {
     "iopub.execute_input": "2021-06-27T13:55:44.988985Z",
     "iopub.status.busy": "2021-06-27T13:55:44.988985Z",
     "iopub.status.idle": "2021-06-27T13:55:44.998001Z",
     "shell.execute_reply": "2021-06-27T13:55:44.998001Z"
    }
   },
   "outputs": [
    {
     "name": "stdout",
     "output_type": "stream",
     "text": [
      "Rows: 50000\n",
      "Columns: 16\n"
     ]
    }
   ],
   "source": [
    "print(\"Rows:\" ,df.shape[0])\n",
    "print(\"Columns:\" ,df.shape[1])"
   ]
  },
  {
   "cell_type": "markdown",
   "metadata": {},
   "source": [
    "Print the head and tail of the data to examine it in more detail"
   ]
  },
  {
   "cell_type": "code",
   "execution_count": 4,
   "metadata": {
    "execution": {
     "iopub.execute_input": "2021-06-27T13:55:45.006000Z",
     "iopub.status.busy": "2021-06-27T13:55:45.006000Z",
     "iopub.status.idle": "2021-06-27T13:55:45.040515Z",
     "shell.execute_reply": "2021-06-27T13:55:45.040515Z"
    }
   },
   "outputs": [
    {
     "data": {
      "text/html": [
       "<div>\n",
       "<style scoped>\n",
       "    .dataframe tbody tr th:only-of-type {\n",
       "        vertical-align: middle;\n",
       "    }\n",
       "\n",
       "    .dataframe tbody tr th {\n",
       "        vertical-align: top;\n",
       "    }\n",
       "\n",
       "    .dataframe thead th {\n",
       "        text-align: right;\n",
       "    }\n",
       "</style>\n",
       "<table border=\"1\" class=\"dataframe\">\n",
       "  <thead>\n",
       "    <tr style=\"text-align: right;\">\n",
       "      <th></th>\n",
       "      <th>DayOfService</th>\n",
       "      <th>TripID</th>\n",
       "      <th>LineId</th>\n",
       "      <th>Direction</th>\n",
       "      <th>TPlannedTime_Arr</th>\n",
       "      <th>TPlannedTime_Dep</th>\n",
       "      <th>TActualTime_Arr</th>\n",
       "      <th>TActualTime_Dep</th>\n",
       "      <th>progrnumber</th>\n",
       "      <th>stoppointid</th>\n",
       "      <th>Lplannedtime_arr</th>\n",
       "      <th>Lplannedtime_dep</th>\n",
       "      <th>Lactualtime_arr</th>\n",
       "      <th>Lactualtime_dep</th>\n",
       "      <th>vehicleid</th>\n",
       "      <th>lastupdate</th>\n",
       "    </tr>\n",
       "  </thead>\n",
       "  <tbody>\n",
       "    <tr>\n",
       "      <th>0</th>\n",
       "      <td>2018-01-01 00:00:00</td>\n",
       "      <td>5955277</td>\n",
       "      <td>16</td>\n",
       "      <td>1</td>\n",
       "      <td>33932</td>\n",
       "      <td>30000</td>\n",
       "      <td>33184.0</td>\n",
       "      <td>30029.0</td>\n",
       "      <td>28</td>\n",
       "      <td>45</td>\n",
       "      <td>31343</td>\n",
       "      <td>31343</td>\n",
       "      <td>31152</td>\n",
       "      <td>31163</td>\n",
       "      <td>1001127</td>\n",
       "      <td>2018-01-08 17:21:10</td>\n",
       "    </tr>\n",
       "    <tr>\n",
       "      <th>1</th>\n",
       "      <td>2018-01-01 00:00:00</td>\n",
       "      <td>5955277</td>\n",
       "      <td>16</td>\n",
       "      <td>1</td>\n",
       "      <td>33932</td>\n",
       "      <td>30000</td>\n",
       "      <td>33184.0</td>\n",
       "      <td>30029.0</td>\n",
       "      <td>29</td>\n",
       "      <td>46</td>\n",
       "      <td>31407</td>\n",
       "      <td>31407</td>\n",
       "      <td>31207</td>\n",
       "      <td>31239</td>\n",
       "      <td>1001127</td>\n",
       "      <td>2018-01-08 17:21:10</td>\n",
       "    </tr>\n",
       "    <tr>\n",
       "      <th>2</th>\n",
       "      <td>2018-01-01 00:00:00</td>\n",
       "      <td>5955277</td>\n",
       "      <td>16</td>\n",
       "      <td>1</td>\n",
       "      <td>33932</td>\n",
       "      <td>30000</td>\n",
       "      <td>33184.0</td>\n",
       "      <td>30029.0</td>\n",
       "      <td>30</td>\n",
       "      <td>47</td>\n",
       "      <td>31484</td>\n",
       "      <td>31484</td>\n",
       "      <td>31281</td>\n",
       "      <td>31288</td>\n",
       "      <td>1001127</td>\n",
       "      <td>2018-01-08 17:21:10</td>\n",
       "    </tr>\n",
       "    <tr>\n",
       "      <th>3</th>\n",
       "      <td>2018-01-01 00:00:00</td>\n",
       "      <td>5955277</td>\n",
       "      <td>16</td>\n",
       "      <td>1</td>\n",
       "      <td>33932</td>\n",
       "      <td>30000</td>\n",
       "      <td>33184.0</td>\n",
       "      <td>30029.0</td>\n",
       "      <td>31</td>\n",
       "      <td>48</td>\n",
       "      <td>31551</td>\n",
       "      <td>31551</td>\n",
       "      <td>31315</td>\n",
       "      <td>31327</td>\n",
       "      <td>1001127</td>\n",
       "      <td>2018-01-08 17:21:10</td>\n",
       "    </tr>\n",
       "    <tr>\n",
       "      <th>4</th>\n",
       "      <td>2018-01-01 00:00:00</td>\n",
       "      <td>5955277</td>\n",
       "      <td>16</td>\n",
       "      <td>1</td>\n",
       "      <td>33932</td>\n",
       "      <td>30000</td>\n",
       "      <td>33184.0</td>\n",
       "      <td>30029.0</td>\n",
       "      <td>32</td>\n",
       "      <td>49</td>\n",
       "      <td>31646</td>\n",
       "      <td>31646</td>\n",
       "      <td>31362</td>\n",
       "      <td>31439</td>\n",
       "      <td>1001127</td>\n",
       "      <td>2018-01-08 17:21:10</td>\n",
       "    </tr>\n",
       "  </tbody>\n",
       "</table>\n",
       "</div>"
      ],
      "text/plain": [
       "          DayOfService   TripID LineId  Direction  TPlannedTime_Arr  \\\n",
       "0  2018-01-01 00:00:00  5955277     16          1             33932   \n",
       "1  2018-01-01 00:00:00  5955277     16          1             33932   \n",
       "2  2018-01-01 00:00:00  5955277     16          1             33932   \n",
       "3  2018-01-01 00:00:00  5955277     16          1             33932   \n",
       "4  2018-01-01 00:00:00  5955277     16          1             33932   \n",
       "\n",
       "   TPlannedTime_Dep  TActualTime_Arr  TActualTime_Dep  progrnumber  \\\n",
       "0             30000          33184.0          30029.0           28   \n",
       "1             30000          33184.0          30029.0           29   \n",
       "2             30000          33184.0          30029.0           30   \n",
       "3             30000          33184.0          30029.0           31   \n",
       "4             30000          33184.0          30029.0           32   \n",
       "\n",
       "   stoppointid  Lplannedtime_arr  Lplannedtime_dep  Lactualtime_arr  \\\n",
       "0           45             31343             31343            31152   \n",
       "1           46             31407             31407            31207   \n",
       "2           47             31484             31484            31281   \n",
       "3           48             31551             31551            31315   \n",
       "4           49             31646             31646            31362   \n",
       "\n",
       "   Lactualtime_dep  vehicleid           lastupdate  \n",
       "0            31163    1001127  2018-01-08 17:21:10  \n",
       "1            31239    1001127  2018-01-08 17:21:10  \n",
       "2            31288    1001127  2018-01-08 17:21:10  \n",
       "3            31327    1001127  2018-01-08 17:21:10  \n",
       "4            31439    1001127  2018-01-08 17:21:10  "
      ]
     },
     "execution_count": 1,
     "metadata": {},
     "output_type": "execute_result"
    }
   ],
   "source": [
    "df.head()"
   ]
  },
  {
   "cell_type": "code",
   "execution_count": 5,
   "metadata": {
    "execution": {
     "iopub.execute_input": "2021-06-27T13:55:45.054559Z",
     "iopub.status.busy": "2021-06-27T13:55:45.054559Z",
     "iopub.status.idle": "2021-06-27T13:55:45.066560Z",
     "shell.execute_reply": "2021-06-27T13:55:45.066560Z"
    }
   },
   "outputs": [
    {
     "data": {
      "text/html": [
       "<div>\n",
       "<style scoped>\n",
       "    .dataframe tbody tr th:only-of-type {\n",
       "        vertical-align: middle;\n",
       "    }\n",
       "\n",
       "    .dataframe tbody tr th {\n",
       "        vertical-align: top;\n",
       "    }\n",
       "\n",
       "    .dataframe thead th {\n",
       "        text-align: right;\n",
       "    }\n",
       "</style>\n",
       "<table border=\"1\" class=\"dataframe\">\n",
       "  <thead>\n",
       "    <tr style=\"text-align: right;\">\n",
       "      <th></th>\n",
       "      <th>DayOfService</th>\n",
       "      <th>TripID</th>\n",
       "      <th>LineId</th>\n",
       "      <th>Direction</th>\n",
       "      <th>TPlannedTime_Arr</th>\n",
       "      <th>TPlannedTime_Dep</th>\n",
       "      <th>TActualTime_Arr</th>\n",
       "      <th>TActualTime_Dep</th>\n",
       "      <th>progrnumber</th>\n",
       "      <th>stoppointid</th>\n",
       "      <th>Lplannedtime_arr</th>\n",
       "      <th>Lplannedtime_dep</th>\n",
       "      <th>Lactualtime_arr</th>\n",
       "      <th>Lactualtime_dep</th>\n",
       "      <th>vehicleid</th>\n",
       "      <th>lastupdate</th>\n",
       "    </tr>\n",
       "  </thead>\n",
       "  <tbody>\n",
       "    <tr>\n",
       "      <th>49995</th>\n",
       "      <td>2018-01-01 00:00:00</td>\n",
       "      <td>5959767</td>\n",
       "      <td>83</td>\n",
       "      <td>2</td>\n",
       "      <td>69259</td>\n",
       "      <td>65400</td>\n",
       "      <td>68674.0</td>\n",
       "      <td>65469.0</td>\n",
       "      <td>21</td>\n",
       "      <td>1071</td>\n",
       "      <td>66293</td>\n",
       "      <td>66293</td>\n",
       "      <td>66354</td>\n",
       "      <td>66354</td>\n",
       "      <td>2693245</td>\n",
       "      <td>2018-01-08 17:21:10</td>\n",
       "    </tr>\n",
       "    <tr>\n",
       "      <th>49996</th>\n",
       "      <td>2018-01-01 00:00:00</td>\n",
       "      <td>5959767</td>\n",
       "      <td>83</td>\n",
       "      <td>2</td>\n",
       "      <td>69259</td>\n",
       "      <td>65400</td>\n",
       "      <td>68674.0</td>\n",
       "      <td>65469.0</td>\n",
       "      <td>22</td>\n",
       "      <td>4528</td>\n",
       "      <td>66348</td>\n",
       "      <td>66348</td>\n",
       "      <td>66382</td>\n",
       "      <td>66382</td>\n",
       "      <td>2693245</td>\n",
       "      <td>2018-01-08 17:21:10</td>\n",
       "    </tr>\n",
       "    <tr>\n",
       "      <th>49997</th>\n",
       "      <td>2018-01-01 00:00:00</td>\n",
       "      <td>5959767</td>\n",
       "      <td>83</td>\n",
       "      <td>2</td>\n",
       "      <td>69259</td>\n",
       "      <td>65400</td>\n",
       "      <td>68674.0</td>\n",
       "      <td>65469.0</td>\n",
       "      <td>23</td>\n",
       "      <td>1072</td>\n",
       "      <td>66424</td>\n",
       "      <td>66424</td>\n",
       "      <td>66467</td>\n",
       "      <td>66478</td>\n",
       "      <td>2693245</td>\n",
       "      <td>2018-01-08 17:21:10</td>\n",
       "    </tr>\n",
       "    <tr>\n",
       "      <th>49998</th>\n",
       "      <td>2018-01-01 00:00:00</td>\n",
       "      <td>5959767</td>\n",
       "      <td>83</td>\n",
       "      <td>2</td>\n",
       "      <td>69259</td>\n",
       "      <td>65400</td>\n",
       "      <td>68674.0</td>\n",
       "      <td>65469.0</td>\n",
       "      <td>24</td>\n",
       "      <td>1352</td>\n",
       "      <td>66542</td>\n",
       "      <td>66542</td>\n",
       "      <td>66581</td>\n",
       "      <td>66620</td>\n",
       "      <td>2693245</td>\n",
       "      <td>2018-01-08 17:21:10</td>\n",
       "    </tr>\n",
       "    <tr>\n",
       "      <th>49999</th>\n",
       "      <td>2018-01-01 00:00:00</td>\n",
       "      <td>5959767</td>\n",
       "      <td>83</td>\n",
       "      <td>2</td>\n",
       "      <td>69259</td>\n",
       "      <td>65400</td>\n",
       "      <td>68674.0</td>\n",
       "      <td>65469.0</td>\n",
       "      <td>25</td>\n",
       "      <td>1353</td>\n",
       "      <td>66596</td>\n",
       "      <td>66596</td>\n",
       "      <td>66645</td>\n",
       "      <td>66645</td>\n",
       "      <td>2693245</td>\n",
       "      <td>2018-01-08 17:21:10</td>\n",
       "    </tr>\n",
       "  </tbody>\n",
       "</table>\n",
       "</div>"
      ],
      "text/plain": [
       "              DayOfService   TripID LineId  Direction  TPlannedTime_Arr  \\\n",
       "49995  2018-01-01 00:00:00  5959767     83          2             69259   \n",
       "49996  2018-01-01 00:00:00  5959767     83          2             69259   \n",
       "49997  2018-01-01 00:00:00  5959767     83          2             69259   \n",
       "49998  2018-01-01 00:00:00  5959767     83          2             69259   \n",
       "49999  2018-01-01 00:00:00  5959767     83          2             69259   \n",
       "\n",
       "       TPlannedTime_Dep  TActualTime_Arr  TActualTime_Dep  progrnumber  \\\n",
       "49995             65400          68674.0          65469.0           21   \n",
       "49996             65400          68674.0          65469.0           22   \n",
       "49997             65400          68674.0          65469.0           23   \n",
       "49998             65400          68674.0          65469.0           24   \n",
       "49999             65400          68674.0          65469.0           25   \n",
       "\n",
       "       stoppointid  Lplannedtime_arr  Lplannedtime_dep  Lactualtime_arr  \\\n",
       "49995         1071             66293             66293            66354   \n",
       "49996         4528             66348             66348            66382   \n",
       "49997         1072             66424             66424            66467   \n",
       "49998         1352             66542             66542            66581   \n",
       "49999         1353             66596             66596            66645   \n",
       "\n",
       "       Lactualtime_dep  vehicleid           lastupdate  \n",
       "49995            66354    2693245  2018-01-08 17:21:10  \n",
       "49996            66382    2693245  2018-01-08 17:21:10  \n",
       "49997            66478    2693245  2018-01-08 17:21:10  \n",
       "49998            66620    2693245  2018-01-08 17:21:10  \n",
       "49999            66645    2693245  2018-01-08 17:21:10  "
      ]
     },
     "execution_count": 1,
     "metadata": {},
     "output_type": "execute_result"
    }
   ],
   "source": [
    "df.tail()"
   ]
  },
  {
   "cell_type": "markdown",
   "metadata": {},
   "source": [
    "### Examine the data types"
   ]
  },
  {
   "cell_type": "code",
   "execution_count": 6,
   "metadata": {
    "execution": {
     "iopub.execute_input": "2021-06-27T13:55:45.070560Z",
     "iopub.status.busy": "2021-06-27T13:55:45.070560Z",
     "iopub.status.idle": "2021-06-27T13:55:45.084601Z",
     "shell.execute_reply": "2021-06-27T13:55:45.084601Z"
    }
   },
   "outputs": [
    {
     "data": {
      "text/plain": [
       "DayOfService         object\n",
       "TripID                int64\n",
       "LineId               object\n",
       "Direction             int64\n",
       "TPlannedTime_Arr      int64\n",
       "TPlannedTime_Dep      int64\n",
       "TActualTime_Arr     float64\n",
       "TActualTime_Dep     float64\n",
       "progrnumber           int64\n",
       "stoppointid           int64\n",
       "Lplannedtime_arr      int64\n",
       "Lplannedtime_dep      int64\n",
       "Lactualtime_arr       int64\n",
       "Lactualtime_dep       int64\n",
       "vehicleid             int64\n",
       "lastupdate           object\n",
       "dtype: object"
      ]
     },
     "execution_count": 1,
     "metadata": {},
     "output_type": "execute_result"
    }
   ],
   "source": [
    "df.dtypes"
   ]
  },
  {
   "cell_type": "markdown",
   "metadata": {},
   "source": [
    "### Reassign the datatypes to suitable forms"
   ]
  },
  {
   "cell_type": "code",
   "execution_count": 7,
   "metadata": {
    "execution": {
     "iopub.execute_input": "2021-06-27T13:55:45.098081Z",
     "iopub.status.busy": "2021-06-27T13:55:45.098081Z",
     "iopub.status.idle": "2021-06-27T13:55:45.155724Z",
     "shell.execute_reply": "2021-06-27T13:55:45.155724Z"
    }
   },
   "outputs": [
    {
     "data": {
      "text/plain": [
       "DayOfService           int64\n",
       "TripID               float64\n",
       "LineId              category\n",
       "Direction            float64\n",
       "TPlannedTime_Arr     float64\n",
       "TPlannedTime_Dep     float64\n",
       "TActualTime_Arr      float64\n",
       "TActualTime_Dep      float64\n",
       "progrnumber          float64\n",
       "stoppointid          float64\n",
       "Lplannedtime_arr     float64\n",
       "Lplannedtime_dep     float64\n",
       "Lactualtime_arr      float64\n",
       "Lactualtime_dep      float64\n",
       "vehicleid            float64\n",
       "lastupdate             int64\n",
       "dtype: object"
      ]
     },
     "execution_count": 1,
     "metadata": {},
     "output_type": "execute_result"
    }
   ],
   "source": [
    "categorical_columns = df[['LineId']].columns\n",
    "continuous_columns = df[['TripID','Direction','TPlannedTime_Arr','TPlannedTime_Dep','TActualTime_Arr','TActualTime_Dep','progrnumber','stoppointid','Lplannedtime_arr','Lplannedtime_dep','Lactualtime_arr','Lactualtime_dep','vehicleid']].columns\n",
    "datetime_columns = df[['DayOfService', 'lastupdate']]\n",
    "\n",
    "for column in continuous_columns:\n",
    "    df[column] = df[column].astype('float64')  \n",
    "\n",
    "for column in categorical_columns:\n",
    "    df[column] = df[column].astype('category')  \n",
    "\n",
    "for column in datetime_columns:\n",
    "    df[column] = pd.to_datetime(df[column]).astype('int64')  \n",
    "    \n",
    "df.dtypes"
   ]
  },
  {
   "cell_type": "markdown",
   "metadata": {},
   "source": [
    "# Initial Checks on Data"
   ]
  },
  {
   "cell_type": "markdown",
   "metadata": {},
   "source": [
    "### Examine Duplicate columns"
   ]
  },
  {
   "cell_type": "code",
   "execution_count": 8,
   "metadata": {
    "execution": {
     "iopub.execute_input": "2021-06-27T13:55:45.159709Z",
     "iopub.status.busy": "2021-06-27T13:55:45.159709Z",
     "iopub.status.idle": "2021-06-27T13:55:58.299742Z",
     "shell.execute_reply": "2021-06-27T13:55:58.299742Z"
    }
   },
   "outputs": [
    {
     "name": "stdout",
     "output_type": "stream",
     "text": [
      "Number of duplicate (excluding first) columns in the table is:  1\n",
      "Number of duplicate (including first) columns in the table is:  2\n"
     ]
    }
   ],
   "source": [
    "dfT = df.T\n",
    "print(\"Number of duplicate (excluding first) columns in the table is: \", dfT.duplicated().sum())\n",
    "print(\"Number of duplicate (including first) columns in the table is: \",  dfT[dfT.duplicated(keep=False)].shape[0])"
   ]
  },
  {
   "cell_type": "markdown",
   "metadata": {},
   "source": [
    "### Examine the columns in more detail "
   ]
  },
  {
   "cell_type": "code",
   "execution_count": 9,
   "metadata": {
    "execution": {
     "iopub.execute_input": "2021-06-27T13:55:58.307688Z",
     "iopub.status.busy": "2021-06-27T13:55:58.307688Z",
     "iopub.status.idle": "2021-06-27T13:55:58.332320Z",
     "shell.execute_reply": "2021-06-27T13:55:58.332320Z"
    }
   },
   "outputs": [
    {
     "data": {
      "text/html": [
       "<div>\n",
       "<style scoped>\n",
       "    .dataframe tbody tr th:only-of-type {\n",
       "        vertical-align: middle;\n",
       "    }\n",
       "\n",
       "    .dataframe tbody tr th {\n",
       "        vertical-align: top;\n",
       "    }\n",
       "\n",
       "    .dataframe thead th {\n",
       "        text-align: right;\n",
       "    }\n",
       "</style>\n",
       "<table border=\"1\" class=\"dataframe\">\n",
       "  <thead>\n",
       "    <tr style=\"text-align: right;\">\n",
       "      <th></th>\n",
       "      <th>count</th>\n",
       "      <th>unique</th>\n",
       "      <th>top</th>\n",
       "      <th>freq</th>\n",
       "    </tr>\n",
       "  </thead>\n",
       "  <tbody>\n",
       "    <tr>\n",
       "      <th>LineId</th>\n",
       "      <td>50000</td>\n",
       "      <td>68</td>\n",
       "      <td>9</td>\n",
       "      <td>2378</td>\n",
       "    </tr>\n",
       "  </tbody>\n",
       "</table>\n",
       "</div>"
      ],
      "text/plain": [
       "        count unique top  freq\n",
       "LineId  50000     68   9  2378"
      ]
     },
     "execution_count": 1,
     "metadata": {},
     "output_type": "execute_result"
    }
   ],
   "source": [
    "df.select_dtypes(['category']).describe().T"
   ]
  },
  {
   "cell_type": "code",
   "execution_count": 10,
   "metadata": {
    "execution": {
     "iopub.execute_input": "2021-06-27T13:55:58.340328Z",
     "iopub.status.busy": "2021-06-27T13:55:58.336329Z",
     "iopub.status.idle": "2021-06-27T13:55:58.364340Z",
     "shell.execute_reply": "2021-06-27T13:55:58.360797Z"
    }
   },
   "outputs": [
    {
     "data": {
      "text/html": [
       "<div>\n",
       "<style scoped>\n",
       "    .dataframe tbody tr th:only-of-type {\n",
       "        vertical-align: middle;\n",
       "    }\n",
       "\n",
       "    .dataframe tbody tr th {\n",
       "        vertical-align: top;\n",
       "    }\n",
       "\n",
       "    .dataframe thead th {\n",
       "        text-align: right;\n",
       "    }\n",
       "</style>\n",
       "<table border=\"1\" class=\"dataframe\">\n",
       "  <thead>\n",
       "    <tr style=\"text-align: right;\">\n",
       "      <th></th>\n",
       "      <th>count</th>\n",
       "      <th>mean</th>\n",
       "      <th>std</th>\n",
       "      <th>min</th>\n",
       "      <th>25%</th>\n",
       "      <th>50%</th>\n",
       "      <th>75%</th>\n",
       "      <th>max</th>\n",
       "    </tr>\n",
       "  </thead>\n",
       "  <tbody>\n",
       "    <tr>\n",
       "      <th>DayOfService</th>\n",
       "      <td>50000.0</td>\n",
       "      <td>1.514765e+18</td>\n",
       "      <td>0.00000</td>\n",
       "      <td>1.514765e+18</td>\n",
       "      <td>1.514765e+18</td>\n",
       "      <td>1.514765e+18</td>\n",
       "      <td>1.514765e+18</td>\n",
       "      <td>1.514765e+18</td>\n",
       "    </tr>\n",
       "    <tr>\n",
       "      <th>lastupdate</th>\n",
       "      <td>50000.0</td>\n",
       "      <td>1.515432e+18</td>\n",
       "      <td>768.00768</td>\n",
       "      <td>1.515432e+18</td>\n",
       "      <td>1.515432e+18</td>\n",
       "      <td>1.515432e+18</td>\n",
       "      <td>1.515432e+18</td>\n",
       "      <td>1.515432e+18</td>\n",
       "    </tr>\n",
       "  </tbody>\n",
       "</table>\n",
       "</div>"
      ],
      "text/plain": [
       "                count          mean        std           min           25%  \\\n",
       "DayOfService  50000.0  1.514765e+18    0.00000  1.514765e+18  1.514765e+18   \n",
       "lastupdate    50000.0  1.515432e+18  768.00768  1.515432e+18  1.515432e+18   \n",
       "\n",
       "                       50%           75%           max  \n",
       "DayOfService  1.514765e+18  1.514765e+18  1.514765e+18  \n",
       "lastupdate    1.515432e+18  1.515432e+18  1.515432e+18  "
      ]
     },
     "execution_count": 1,
     "metadata": {},
     "output_type": "execute_result"
    }
   ],
   "source": [
    "df.select_dtypes(['int64']).describe().T"
   ]
  },
  {
   "cell_type": "code",
   "execution_count": 11,
   "metadata": {
    "execution": {
     "iopub.execute_input": "2021-06-27T13:55:58.370856Z",
     "iopub.status.busy": "2021-06-27T13:55:58.370856Z",
     "iopub.status.idle": "2021-06-27T13:55:58.427097Z",
     "shell.execute_reply": "2021-06-27T13:55:58.427097Z"
    }
   },
   "outputs": [
    {
     "data": {
      "text/html": [
       "<div>\n",
       "<style scoped>\n",
       "    .dataframe tbody tr th:only-of-type {\n",
       "        vertical-align: middle;\n",
       "    }\n",
       "\n",
       "    .dataframe tbody tr th {\n",
       "        vertical-align: top;\n",
       "    }\n",
       "\n",
       "    .dataframe thead th {\n",
       "        text-align: right;\n",
       "    }\n",
       "</style>\n",
       "<table border=\"1\" class=\"dataframe\">\n",
       "  <thead>\n",
       "    <tr style=\"text-align: right;\">\n",
       "      <th></th>\n",
       "      <th>count</th>\n",
       "      <th>mean</th>\n",
       "      <th>std</th>\n",
       "      <th>min</th>\n",
       "      <th>25%</th>\n",
       "      <th>50%</th>\n",
       "      <th>75%</th>\n",
       "      <th>max</th>\n",
       "    </tr>\n",
       "  </thead>\n",
       "  <tbody>\n",
       "    <tr>\n",
       "      <th>TripID</th>\n",
       "      <td>50000.0</td>\n",
       "      <td>5.957371e+06</td>\n",
       "      <td>1306.330204</td>\n",
       "      <td>5955277.0</td>\n",
       "      <td>5956288.00</td>\n",
       "      <td>5957473.0</td>\n",
       "      <td>5958429.00</td>\n",
       "      <td>5959767.0</td>\n",
       "    </tr>\n",
       "    <tr>\n",
       "      <th>Direction</th>\n",
       "      <td>50000.0</td>\n",
       "      <td>1.506080e+00</td>\n",
       "      <td>0.499968</td>\n",
       "      <td>1.0</td>\n",
       "      <td>1.00</td>\n",
       "      <td>2.0</td>\n",
       "      <td>2.00</td>\n",
       "      <td>2.0</td>\n",
       "    </tr>\n",
       "    <tr>\n",
       "      <th>TPlannedTime_Arr</th>\n",
       "      <td>50000.0</td>\n",
       "      <td>6.116368e+04</td>\n",
       "      <td>14876.462373</td>\n",
       "      <td>26496.0</td>\n",
       "      <td>48720.00</td>\n",
       "      <td>61288.0</td>\n",
       "      <td>73623.00</td>\n",
       "      <td>88603.0</td>\n",
       "    </tr>\n",
       "    <tr>\n",
       "      <th>TPlannedTime_Dep</th>\n",
       "      <td>50000.0</td>\n",
       "      <td>5.768153e+04</td>\n",
       "      <td>15028.899527</td>\n",
       "      <td>23700.0</td>\n",
       "      <td>45000.00</td>\n",
       "      <td>57600.0</td>\n",
       "      <td>70200.00</td>\n",
       "      <td>85500.0</td>\n",
       "    </tr>\n",
       "    <tr>\n",
       "      <th>TActualTime_Arr</th>\n",
       "      <td>47903.0</td>\n",
       "      <td>6.054521e+04</td>\n",
       "      <td>14882.724619</td>\n",
       "      <td>26447.0</td>\n",
       "      <td>48087.00</td>\n",
       "      <td>60543.0</td>\n",
       "      <td>73026.00</td>\n",
       "      <td>87916.0</td>\n",
       "    </tr>\n",
       "    <tr>\n",
       "      <th>TActualTime_Dep</th>\n",
       "      <td>47814.0</td>\n",
       "      <td>5.798451e+04</td>\n",
       "      <td>14899.964928</td>\n",
       "      <td>25517.0</td>\n",
       "      <td>45179.00</td>\n",
       "      <td>57620.0</td>\n",
       "      <td>70207.00</td>\n",
       "      <td>85501.0</td>\n",
       "    </tr>\n",
       "    <tr>\n",
       "      <th>progrnumber</th>\n",
       "      <td>50000.0</td>\n",
       "      <td>3.092208e+01</td>\n",
       "      <td>19.887865</td>\n",
       "      <td>1.0</td>\n",
       "      <td>14.00</td>\n",
       "      <td>29.0</td>\n",
       "      <td>45.00</td>\n",
       "      <td>102.0</td>\n",
       "    </tr>\n",
       "    <tr>\n",
       "      <th>stoppointid</th>\n",
       "      <td>50000.0</td>\n",
       "      <td>2.517442e+03</td>\n",
       "      <td>2042.708130</td>\n",
       "      <td>2.0</td>\n",
       "      <td>830.00</td>\n",
       "      <td>2017.5</td>\n",
       "      <td>3885.00</td>\n",
       "      <td>7665.0</td>\n",
       "    </tr>\n",
       "    <tr>\n",
       "      <th>Lplannedtime_arr</th>\n",
       "      <td>50000.0</td>\n",
       "      <td>5.941817e+04</td>\n",
       "      <td>14976.874464</td>\n",
       "      <td>23799.0</td>\n",
       "      <td>47067.75</td>\n",
       "      <td>59469.0</td>\n",
       "      <td>71826.25</td>\n",
       "      <td>88603.0</td>\n",
       "    </tr>\n",
       "    <tr>\n",
       "      <th>Lplannedtime_dep</th>\n",
       "      <td>50000.0</td>\n",
       "      <td>5.941817e+04</td>\n",
       "      <td>14976.874464</td>\n",
       "      <td>23799.0</td>\n",
       "      <td>47067.75</td>\n",
       "      <td>59469.0</td>\n",
       "      <td>71826.25</td>\n",
       "      <td>88603.0</td>\n",
       "    </tr>\n",
       "    <tr>\n",
       "      <th>Lactualtime_arr</th>\n",
       "      <td>50000.0</td>\n",
       "      <td>5.926206e+04</td>\n",
       "      <td>15000.769577</td>\n",
       "      <td>23863.0</td>\n",
       "      <td>46817.00</td>\n",
       "      <td>59263.5</td>\n",
       "      <td>71772.50</td>\n",
       "      <td>87916.0</td>\n",
       "    </tr>\n",
       "    <tr>\n",
       "      <th>Lactualtime_dep</th>\n",
       "      <td>50000.0</td>\n",
       "      <td>5.927000e+04</td>\n",
       "      <td>15000.383294</td>\n",
       "      <td>23863.0</td>\n",
       "      <td>46823.75</td>\n",
       "      <td>59275.5</td>\n",
       "      <td>71785.50</td>\n",
       "      <td>87916.0</td>\n",
       "    </tr>\n",
       "    <tr>\n",
       "      <th>vehicleid</th>\n",
       "      <td>50000.0</td>\n",
       "      <td>2.208271e+06</td>\n",
       "      <td>654275.826612</td>\n",
       "      <td>1000154.0</td>\n",
       "      <td>1932331.00</td>\n",
       "      <td>2534788.0</td>\n",
       "      <td>2693247.00</td>\n",
       "      <td>2868399.0</td>\n",
       "    </tr>\n",
       "  </tbody>\n",
       "</table>\n",
       "</div>"
      ],
      "text/plain": [
       "                    count          mean            std        min         25%  \\\n",
       "TripID            50000.0  5.957371e+06    1306.330204  5955277.0  5956288.00   \n",
       "Direction         50000.0  1.506080e+00       0.499968        1.0        1.00   \n",
       "TPlannedTime_Arr  50000.0  6.116368e+04   14876.462373    26496.0    48720.00   \n",
       "TPlannedTime_Dep  50000.0  5.768153e+04   15028.899527    23700.0    45000.00   \n",
       "TActualTime_Arr   47903.0  6.054521e+04   14882.724619    26447.0    48087.00   \n",
       "TActualTime_Dep   47814.0  5.798451e+04   14899.964928    25517.0    45179.00   \n",
       "progrnumber       50000.0  3.092208e+01      19.887865        1.0       14.00   \n",
       "stoppointid       50000.0  2.517442e+03    2042.708130        2.0      830.00   \n",
       "Lplannedtime_arr  50000.0  5.941817e+04   14976.874464    23799.0    47067.75   \n",
       "Lplannedtime_dep  50000.0  5.941817e+04   14976.874464    23799.0    47067.75   \n",
       "Lactualtime_arr   50000.0  5.926206e+04   15000.769577    23863.0    46817.00   \n",
       "Lactualtime_dep   50000.0  5.927000e+04   15000.383294    23863.0    46823.75   \n",
       "vehicleid         50000.0  2.208271e+06  654275.826612  1000154.0  1932331.00   \n",
       "\n",
       "                        50%         75%        max  \n",
       "TripID            5957473.0  5958429.00  5959767.0  \n",
       "Direction               2.0        2.00        2.0  \n",
       "TPlannedTime_Arr    61288.0    73623.00    88603.0  \n",
       "TPlannedTime_Dep    57600.0    70200.00    85500.0  \n",
       "TActualTime_Arr     60543.0    73026.00    87916.0  \n",
       "TActualTime_Dep     57620.0    70207.00    85501.0  \n",
       "progrnumber            29.0       45.00      102.0  \n",
       "stoppointid          2017.5     3885.00     7665.0  \n",
       "Lplannedtime_arr    59469.0    71826.25    88603.0  \n",
       "Lplannedtime_dep    59469.0    71826.25    88603.0  \n",
       "Lactualtime_arr     59263.5    71772.50    87916.0  \n",
       "Lactualtime_dep     59275.5    71785.50    87916.0  \n",
       "vehicleid         2534788.0  2693247.00  2868399.0  "
      ]
     },
     "execution_count": 1,
     "metadata": {},
     "output_type": "execute_result"
    }
   ],
   "source": [
    "df.select_dtypes(['float64']).describe().T"
   ]
  },
  {
   "cell_type": "markdown",
   "metadata": {},
   "source": [
    "# Examine duplicate rows in the data"
   ]
  },
  {
   "cell_type": "code",
   "execution_count": 12,
   "metadata": {
    "execution": {
     "iopub.execute_input": "2021-06-27T13:55:58.430936Z",
     "iopub.status.busy": "2021-06-27T13:55:58.430936Z",
     "iopub.status.idle": "2021-06-27T13:55:58.510471Z",
     "shell.execute_reply": "2021-06-27T13:55:58.510471Z"
    }
   },
   "outputs": [
    {
     "name": "stdout",
     "output_type": "stream",
     "text": [
      "Number of duplicate (excluding first) rows in the table is:  0\n",
      "Number of duplicate rows (including first) in the table is: 0\n"
     ]
    }
   ],
   "source": [
    "print('Number of duplicate (excluding first) rows in the table is: ', df.duplicated().sum())\n",
    "print('Number of duplicate rows (including first) in the table is:', df[df.duplicated(keep=False)].shape[0])"
   ]
  },
  {
   "cell_type": "markdown",
   "metadata": {},
   "source": [
    "### Print out the duplicate rows"
   ]
  },
  {
   "cell_type": "code",
   "execution_count": 13,
   "metadata": {
    "execution": {
     "iopub.execute_input": "2021-06-27T13:55:58.519045Z",
     "iopub.status.busy": "2021-06-27T13:55:58.519045Z",
     "iopub.status.idle": "2021-06-27T13:55:58.576545Z",
     "shell.execute_reply": "2021-06-27T13:55:58.576545Z"
    }
   },
   "outputs": [
    {
     "data": {
      "text/html": [
       "<div>\n",
       "<style scoped>\n",
       "    .dataframe tbody tr th:only-of-type {\n",
       "        vertical-align: middle;\n",
       "    }\n",
       "\n",
       "    .dataframe tbody tr th {\n",
       "        vertical-align: top;\n",
       "    }\n",
       "\n",
       "    .dataframe thead th {\n",
       "        text-align: right;\n",
       "    }\n",
       "</style>\n",
       "<table border=\"1\" class=\"dataframe\">\n",
       "  <thead>\n",
       "    <tr style=\"text-align: right;\">\n",
       "      <th></th>\n",
       "      <th>DayOfService</th>\n",
       "      <th>TripID</th>\n",
       "      <th>LineId</th>\n",
       "      <th>Direction</th>\n",
       "      <th>TPlannedTime_Arr</th>\n",
       "      <th>TPlannedTime_Dep</th>\n",
       "      <th>TActualTime_Arr</th>\n",
       "      <th>TActualTime_Dep</th>\n",
       "      <th>progrnumber</th>\n",
       "      <th>stoppointid</th>\n",
       "      <th>Lplannedtime_arr</th>\n",
       "      <th>Lplannedtime_dep</th>\n",
       "      <th>Lactualtime_arr</th>\n",
       "      <th>Lactualtime_dep</th>\n",
       "      <th>vehicleid</th>\n",
       "      <th>lastupdate</th>\n",
       "    </tr>\n",
       "  </thead>\n",
       "  <tbody>\n",
       "  </tbody>\n",
       "</table>\n",
       "</div>"
      ],
      "text/plain": [
       "Empty DataFrame\n",
       "Columns: [DayOfService, TripID, LineId, Direction, TPlannedTime_Arr, TPlannedTime_Dep, TActualTime_Arr, TActualTime_Dep, progrnumber, stoppointid, Lplannedtime_arr, Lplannedtime_dep, Lactualtime_arr, Lactualtime_dep, vehicleid, lastupdate]\n",
       "Index: []"
      ]
     },
     "execution_count": 1,
     "metadata": {},
     "output_type": "execute_result"
    }
   ],
   "source": [
    "df[df.duplicated(keep=False)].sort_values(by = df.columns.to_list())"
   ]
  },
  {
   "cell_type": "markdown",
   "metadata": {},
   "source": [
    "# Analyse the data for missing values"
   ]
  },
  {
   "cell_type": "code",
   "execution_count": 14,
   "metadata": {
    "execution": {
     "iopub.execute_input": "2021-06-27T13:55:58.580543Z",
     "iopub.status.busy": "2021-06-27T13:55:58.580543Z",
     "iopub.status.idle": "2021-06-27T13:55:58.602159Z",
     "shell.execute_reply": "2021-06-27T13:55:58.602159Z"
    }
   },
   "outputs": [
    {
     "data": {
      "text/plain": [
       "DayOfService           0\n",
       "TripID                 0\n",
       "LineId                 0\n",
       "Direction              0\n",
       "TPlannedTime_Arr       0\n",
       "TPlannedTime_Dep       0\n",
       "TActualTime_Arr     2097\n",
       "TActualTime_Dep     2186\n",
       "progrnumber            0\n",
       "stoppointid            0\n",
       "Lplannedtime_arr       0\n",
       "Lplannedtime_dep       0\n",
       "Lactualtime_arr        0\n",
       "Lactualtime_dep        0\n",
       "vehicleid              0\n",
       "lastupdate             0\n",
       "dtype: int64"
      ]
     },
     "execution_count": 1,
     "metadata": {},
     "output_type": "execute_result"
    }
   ],
   "source": [
    "df.isnull().sum()"
   ]
  },
  {
   "cell_type": "markdown",
   "metadata": {},
   "source": [
    "# Findings\n",
    "\n",
    "    - Duplicate cols\n",
    "        - drop one of the duplicate cols\n",
    "    - Null values\n",
    "        - drop rows with actual time arrival missing as this is the target outcome, inpute/ create null category for actual time depart"
   ]
  },
  {
   "cell_type": "code",
   "execution_count": 15,
   "metadata": {
    "execution": {
     "iopub.execute_input": "2021-06-27T13:55:58.610784Z",
     "iopub.status.busy": "2021-06-27T13:55:58.610784Z",
     "iopub.status.idle": "2021-06-27T13:55:58.619180Z",
     "shell.execute_reply": "2021-06-27T13:55:58.619180Z"
    }
   },
   "outputs": [],
   "source": [
    "arr_null = df[df[\"TActualTime_Arr\"].isnull()].index"
   ]
  },
  {
   "cell_type": "code",
   "execution_count": 16,
   "metadata": {
    "execution": {
     "iopub.execute_input": "2021-06-27T13:55:58.627109Z",
     "iopub.status.busy": "2021-06-27T13:55:58.627109Z",
     "iopub.status.idle": "2021-06-27T13:55:58.631143Z",
     "shell.execute_reply": "2021-06-27T13:55:58.631143Z"
    }
   },
   "outputs": [
    {
     "data": {
      "text/plain": [
       "Int64Index([ 1394,  1395,  1396,  1397,  1398,  1399,  1400,  1401,  1402,\n",
       "             1403,\n",
       "            ...\n",
       "            49481, 49482, 49483, 49484, 49485, 49486, 49487, 49488, 49489,\n",
       "            49490],\n",
       "           dtype='int64', length=2097)"
      ]
     },
     "execution_count": 1,
     "metadata": {},
     "output_type": "execute_result"
    }
   ],
   "source": [
    "arr_null"
   ]
  },
  {
   "cell_type": "code",
   "execution_count": 17,
   "metadata": {
    "execution": {
     "iopub.execute_input": "2021-06-27T13:55:58.635134Z",
     "iopub.status.busy": "2021-06-27T13:55:58.635134Z",
     "iopub.status.idle": "2021-06-27T13:55:58.647179Z",
     "shell.execute_reply": "2021-06-27T13:55:58.647179Z"
    }
   },
   "outputs": [],
   "source": [
    "df = df.drop(arr_null)"
   ]
  },
  {
   "cell_type": "code",
   "execution_count": 18,
   "metadata": {
    "execution": {
     "iopub.execute_input": "2021-06-27T13:55:58.651135Z",
     "iopub.status.busy": "2021-06-27T13:55:58.651135Z",
     "iopub.status.idle": "2021-06-27T13:55:58.666433Z",
     "shell.execute_reply": "2021-06-27T13:55:58.666433Z"
    }
   },
   "outputs": [
    {
     "data": {
      "text/plain": [
       "(47903, 16)"
      ]
     },
     "execution_count": 1,
     "metadata": {},
     "output_type": "execute_result"
    }
   ],
   "source": [
    "df.shape"
   ]
  },
  {
   "cell_type": "markdown",
   "metadata": {},
   "source": [
    "The best guess that we have for the actual time of departue is the planned time of departure"
   ]
  },
  {
   "cell_type": "code",
   "execution_count": 19,
   "metadata": {
    "execution": {
     "iopub.execute_input": "2021-06-27T13:55:58.674427Z",
     "iopub.status.busy": "2021-06-27T13:55:58.674427Z",
     "iopub.status.idle": "2021-06-27T13:55:58.678517Z",
     "shell.execute_reply": "2021-06-27T13:55:58.678517Z"
    }
   },
   "outputs": [],
   "source": [
    "df[\"TActualTime_Dep\"].fillna(df[\"TPlannedTime_Dep\"], inplace=True)"
   ]
  },
  {
   "cell_type": "code",
   "execution_count": 20,
   "metadata": {
    "execution": {
     "iopub.execute_input": "2021-06-27T13:55:58.686492Z",
     "iopub.status.busy": "2021-06-27T13:55:58.682492Z",
     "iopub.status.idle": "2021-06-27T13:55:58.696852Z",
     "shell.execute_reply": "2021-06-27T13:55:58.696852Z"
    }
   },
   "outputs": [
    {
     "data": {
      "text/plain": [
       "DayOfService        0\n",
       "TripID              0\n",
       "LineId              0\n",
       "Direction           0\n",
       "TPlannedTime_Arr    0\n",
       "TPlannedTime_Dep    0\n",
       "TActualTime_Arr     0\n",
       "TActualTime_Dep     0\n",
       "progrnumber         0\n",
       "stoppointid         0\n",
       "Lplannedtime_arr    0\n",
       "Lplannedtime_dep    0\n",
       "Lactualtime_arr     0\n",
       "Lactualtime_dep     0\n",
       "vehicleid           0\n",
       "lastupdate          0\n",
       "dtype: int64"
      ]
     },
     "execution_count": 1,
     "metadata": {},
     "output_type": "execute_result"
    }
   ],
   "source": [
    "df.isnull().sum()"
   ]
  },
  {
   "cell_type": "markdown",
   "metadata": {},
   "source": [
    "# Weather Data"
   ]
  },
  {
   "cell_type": "markdown",
   "metadata": {},
   "source": [
    "### Import the weather data"
   ]
  },
  {
   "cell_type": "code",
   "execution_count": 21,
   "metadata": {
    "execution": {
     "iopub.execute_input": "2021-06-27T13:55:58.704869Z",
     "iopub.status.busy": "2021-06-27T13:55:58.704869Z",
     "iopub.status.idle": "2021-06-27T13:55:58.723413Z",
     "shell.execute_reply": "2021-06-27T13:55:58.723413Z"
    }
   },
   "outputs": [],
   "source": [
    "wdf = pd.read_csv(\"./RAW_DATA/weather_clean.csv\")"
   ]
  },
  {
   "cell_type": "markdown",
   "metadata": {},
   "source": [
    "### Examine the weather data"
   ]
  },
  {
   "cell_type": "code",
   "execution_count": 22,
   "metadata": {
    "execution": {
     "iopub.execute_input": "2021-06-27T13:55:58.735379Z",
     "iopub.status.busy": "2021-06-27T13:55:58.735379Z",
     "iopub.status.idle": "2021-06-27T13:55:58.743350Z",
     "shell.execute_reply": "2021-06-27T13:55:58.743350Z"
    }
   },
   "outputs": [
    {
     "data": {
      "text/html": [
       "<div>\n",
       "<style scoped>\n",
       "    .dataframe tbody tr th:only-of-type {\n",
       "        vertical-align: middle;\n",
       "    }\n",
       "\n",
       "    .dataframe tbody tr th {\n",
       "        vertical-align: top;\n",
       "    }\n",
       "\n",
       "    .dataframe thead th {\n",
       "        text-align: right;\n",
       "    }\n",
       "</style>\n",
       "<table border=\"1\" class=\"dataframe\">\n",
       "  <thead>\n",
       "    <tr style=\"text-align: right;\">\n",
       "      <th></th>\n",
       "      <th>weatherdate</th>\n",
       "      <th>rain</th>\n",
       "      <th>temp</th>\n",
       "      <th>wetb</th>\n",
       "      <th>dewpt</th>\n",
       "      <th>vappr</th>\n",
       "      <th>rhum</th>\n",
       "      <th>msl</th>\n",
       "    </tr>\n",
       "  </thead>\n",
       "  <tbody>\n",
       "    <tr>\n",
       "      <th>0</th>\n",
       "      <td>2018-01-01 00:00:00</td>\n",
       "      <td>0.0</td>\n",
       "      <td>4.6</td>\n",
       "      <td>3.5</td>\n",
       "      <td>1.8</td>\n",
       "      <td>6.9</td>\n",
       "      <td>82.0</td>\n",
       "      <td>991.0</td>\n",
       "    </tr>\n",
       "    <tr>\n",
       "      <th>1</th>\n",
       "      <td>2018-01-01 01:00:00</td>\n",
       "      <td>0.1</td>\n",
       "      <td>4.7</td>\n",
       "      <td>3.6</td>\n",
       "      <td>1.8</td>\n",
       "      <td>7.0</td>\n",
       "      <td>81.0</td>\n",
       "      <td>991.1</td>\n",
       "    </tr>\n",
       "    <tr>\n",
       "      <th>2</th>\n",
       "      <td>2018-01-01 02:00:00</td>\n",
       "      <td>0.0</td>\n",
       "      <td>4.8</td>\n",
       "      <td>3.7</td>\n",
       "      <td>1.9</td>\n",
       "      <td>7.0</td>\n",
       "      <td>81.0</td>\n",
       "      <td>991.1</td>\n",
       "    </tr>\n",
       "    <tr>\n",
       "      <th>3</th>\n",
       "      <td>2018-01-01 03:00:00</td>\n",
       "      <td>0.0</td>\n",
       "      <td>4.9</td>\n",
       "      <td>3.8</td>\n",
       "      <td>2.2</td>\n",
       "      <td>7.2</td>\n",
       "      <td>82.0</td>\n",
       "      <td>990.7</td>\n",
       "    </tr>\n",
       "    <tr>\n",
       "      <th>4</th>\n",
       "      <td>2018-01-01 04:00:00</td>\n",
       "      <td>0.0</td>\n",
       "      <td>5.3</td>\n",
       "      <td>4.1</td>\n",
       "      <td>2.3</td>\n",
       "      <td>7.2</td>\n",
       "      <td>81.0</td>\n",
       "      <td>990.3</td>\n",
       "    </tr>\n",
       "  </tbody>\n",
       "</table>\n",
       "</div>"
      ],
      "text/plain": [
       "           weatherdate  rain  temp  wetb  dewpt  vappr  rhum    msl\n",
       "0  2018-01-01 00:00:00   0.0   4.6   3.5    1.8    6.9  82.0  991.0\n",
       "1  2018-01-01 01:00:00   0.1   4.7   3.6    1.8    7.0  81.0  991.1\n",
       "2  2018-01-01 02:00:00   0.0   4.8   3.7    1.9    7.0  81.0  991.1\n",
       "3  2018-01-01 03:00:00   0.0   4.9   3.8    2.2    7.2  82.0  990.7\n",
       "4  2018-01-01 04:00:00   0.0   5.3   4.1    2.3    7.2  81.0  990.3"
      ]
     },
     "execution_count": 1,
     "metadata": {},
     "output_type": "execute_result"
    }
   ],
   "source": [
    "wdf.head()"
   ]
  },
  {
   "cell_type": "code",
   "execution_count": 23,
   "metadata": {
    "execution": {
     "iopub.execute_input": "2021-06-27T13:55:58.751342Z",
     "iopub.status.busy": "2021-06-27T13:55:58.751342Z",
     "iopub.status.idle": "2021-06-27T13:55:58.755414Z",
     "shell.execute_reply": "2021-06-27T13:55:58.755414Z"
    }
   },
   "outputs": [
    {
     "data": {
      "text/plain": [
       "weatherdate     object\n",
       "rain           float64\n",
       "temp           float64\n",
       "wetb           float64\n",
       "dewpt          float64\n",
       "vappr          float64\n",
       "rhum           float64\n",
       "msl            float64\n",
       "dtype: object"
      ]
     },
     "execution_count": 1,
     "metadata": {},
     "output_type": "execute_result"
    }
   ],
   "source": [
    "wdf.dtypes"
   ]
  },
  {
   "cell_type": "code",
   "execution_count": 24,
   "metadata": {
    "execution": {
     "iopub.execute_input": "2021-06-27T13:55:58.768410Z",
     "iopub.status.busy": "2021-06-27T13:55:58.768410Z",
     "iopub.status.idle": "2021-06-27T13:55:58.772452Z",
     "shell.execute_reply": "2021-06-27T13:55:58.772452Z"
    }
   },
   "outputs": [],
   "source": [
    "wdf[\"weatherdate\"] = pd.to_datetime(wdf[\"weatherdate\"]).astype('datetime64[ns]') "
   ]
  },
  {
   "cell_type": "code",
   "execution_count": 25,
   "metadata": {
    "execution": {
     "iopub.execute_input": "2021-06-27T13:55:58.784856Z",
     "iopub.status.busy": "2021-06-27T13:55:58.784856Z",
     "iopub.status.idle": "2021-06-27T13:55:58.804510Z",
     "shell.execute_reply": "2021-06-27T13:55:58.804510Z"
    }
   },
   "outputs": [
    {
     "data": {
      "text/html": [
       "<div>\n",
       "<style scoped>\n",
       "    .dataframe tbody tr th:only-of-type {\n",
       "        vertical-align: middle;\n",
       "    }\n",
       "\n",
       "    .dataframe tbody tr th {\n",
       "        vertical-align: top;\n",
       "    }\n",
       "\n",
       "    .dataframe thead th {\n",
       "        text-align: right;\n",
       "    }\n",
       "</style>\n",
       "<table border=\"1\" class=\"dataframe\">\n",
       "  <thead>\n",
       "    <tr style=\"text-align: right;\">\n",
       "      <th></th>\n",
       "      <th>weatherdate</th>\n",
       "      <th>rain</th>\n",
       "      <th>temp</th>\n",
       "      <th>wetb</th>\n",
       "      <th>dewpt</th>\n",
       "      <th>vappr</th>\n",
       "      <th>rhum</th>\n",
       "      <th>msl</th>\n",
       "    </tr>\n",
       "  </thead>\n",
       "  <tbody>\n",
       "    <tr>\n",
       "      <th>0</th>\n",
       "      <td>2018-01-01 00:00:00</td>\n",
       "      <td>0.0</td>\n",
       "      <td>4.6</td>\n",
       "      <td>3.5</td>\n",
       "      <td>1.8</td>\n",
       "      <td>6.9</td>\n",
       "      <td>82.0</td>\n",
       "      <td>991.0</td>\n",
       "    </tr>\n",
       "    <tr>\n",
       "      <th>1</th>\n",
       "      <td>2018-01-01 01:00:00</td>\n",
       "      <td>0.1</td>\n",
       "      <td>4.7</td>\n",
       "      <td>3.6</td>\n",
       "      <td>1.8</td>\n",
       "      <td>7.0</td>\n",
       "      <td>81.0</td>\n",
       "      <td>991.1</td>\n",
       "    </tr>\n",
       "    <tr>\n",
       "      <th>2</th>\n",
       "      <td>2018-01-01 02:00:00</td>\n",
       "      <td>0.0</td>\n",
       "      <td>4.8</td>\n",
       "      <td>3.7</td>\n",
       "      <td>1.9</td>\n",
       "      <td>7.0</td>\n",
       "      <td>81.0</td>\n",
       "      <td>991.1</td>\n",
       "    </tr>\n",
       "    <tr>\n",
       "      <th>3</th>\n",
       "      <td>2018-01-01 03:00:00</td>\n",
       "      <td>0.0</td>\n",
       "      <td>4.9</td>\n",
       "      <td>3.8</td>\n",
       "      <td>2.2</td>\n",
       "      <td>7.2</td>\n",
       "      <td>82.0</td>\n",
       "      <td>990.7</td>\n",
       "    </tr>\n",
       "    <tr>\n",
       "      <th>4</th>\n",
       "      <td>2018-01-01 04:00:00</td>\n",
       "      <td>0.0</td>\n",
       "      <td>5.3</td>\n",
       "      <td>4.1</td>\n",
       "      <td>2.3</td>\n",
       "      <td>7.2</td>\n",
       "      <td>81.0</td>\n",
       "      <td>990.3</td>\n",
       "    </tr>\n",
       "  </tbody>\n",
       "</table>\n",
       "</div>"
      ],
      "text/plain": [
       "          weatherdate  rain  temp  wetb  dewpt  vappr  rhum    msl\n",
       "0 2018-01-01 00:00:00   0.0   4.6   3.5    1.8    6.9  82.0  991.0\n",
       "1 2018-01-01 01:00:00   0.1   4.7   3.6    1.8    7.0  81.0  991.1\n",
       "2 2018-01-01 02:00:00   0.0   4.8   3.7    1.9    7.0  81.0  991.1\n",
       "3 2018-01-01 03:00:00   0.0   4.9   3.8    2.2    7.2  82.0  990.7\n",
       "4 2018-01-01 04:00:00   0.0   5.3   4.1    2.3    7.2  81.0  990.3"
      ]
     },
     "execution_count": 1,
     "metadata": {},
     "output_type": "execute_result"
    }
   ],
   "source": [
    "wdf.head()"
   ]
  },
  {
   "cell_type": "markdown",
   "metadata": {},
   "source": [
    "# Merge Weather and Dublin Bus data"
   ]
  },
  {
   "cell_type": "markdown",
   "metadata": {},
   "source": [
    "Create a shared column for actual arrival time, determine the weather for when the bus is planned to arrive to determine the weather in dublin at that time the bus is travelling"
   ]
  },
  {
   "cell_type": "code",
   "execution_count": 26,
   "metadata": {
    "execution": {
     "iopub.execute_input": "2021-06-27T13:55:58.819330Z",
     "iopub.status.busy": "2021-06-27T13:55:58.818700Z",
     "iopub.status.idle": "2021-06-27T13:55:59.010513Z",
     "shell.execute_reply": "2021-06-27T13:55:59.010513Z"
    }
   },
   "outputs": [],
   "source": [
    "df[\"weatherdate\"] = pd.to_datetime(df[\"DayOfService\"]) + pd.to_timedelta(df[\"Lplannedtime_arr\"], unit='s')\n",
    "df['weatherdate'] = df['weatherdate'].apply(lambda dt: datetime.datetime(dt.year, dt.month, dt.day, dt.hour))"
   ]
  },
  {
   "cell_type": "code",
   "execution_count": 27,
   "metadata": {
    "execution": {
     "iopub.execute_input": "2021-06-27T13:55:59.035655Z",
     "iopub.status.busy": "2021-06-27T13:55:59.035655Z",
     "iopub.status.idle": "2021-06-27T13:55:59.039621Z",
     "shell.execute_reply": "2021-06-27T13:55:59.039621Z"
    }
   },
   "outputs": [
    {
     "data": {
      "text/html": [
       "<div>\n",
       "<style scoped>\n",
       "    .dataframe tbody tr th:only-of-type {\n",
       "        vertical-align: middle;\n",
       "    }\n",
       "\n",
       "    .dataframe tbody tr th {\n",
       "        vertical-align: top;\n",
       "    }\n",
       "\n",
       "    .dataframe thead th {\n",
       "        text-align: right;\n",
       "    }\n",
       "</style>\n",
       "<table border=\"1\" class=\"dataframe\">\n",
       "  <thead>\n",
       "    <tr style=\"text-align: right;\">\n",
       "      <th></th>\n",
       "      <th>DayOfService</th>\n",
       "      <th>TripID</th>\n",
       "      <th>LineId</th>\n",
       "      <th>Direction</th>\n",
       "      <th>TPlannedTime_Arr</th>\n",
       "      <th>TPlannedTime_Dep</th>\n",
       "      <th>TActualTime_Arr</th>\n",
       "      <th>TActualTime_Dep</th>\n",
       "      <th>progrnumber</th>\n",
       "      <th>stoppointid</th>\n",
       "      <th>Lplannedtime_arr</th>\n",
       "      <th>Lplannedtime_dep</th>\n",
       "      <th>Lactualtime_arr</th>\n",
       "      <th>Lactualtime_dep</th>\n",
       "      <th>vehicleid</th>\n",
       "      <th>lastupdate</th>\n",
       "      <th>weatherdate</th>\n",
       "    </tr>\n",
       "  </thead>\n",
       "  <tbody>\n",
       "    <tr>\n",
       "      <th>0</th>\n",
       "      <td>1514764800000000000</td>\n",
       "      <td>5955277.0</td>\n",
       "      <td>16</td>\n",
       "      <td>1.0</td>\n",
       "      <td>33932.0</td>\n",
       "      <td>30000.0</td>\n",
       "      <td>33184.0</td>\n",
       "      <td>30029.0</td>\n",
       "      <td>28.0</td>\n",
       "      <td>45.0</td>\n",
       "      <td>31343.0</td>\n",
       "      <td>31343.0</td>\n",
       "      <td>31152.0</td>\n",
       "      <td>31163.0</td>\n",
       "      <td>1001127.0</td>\n",
       "      <td>1515432070000000000</td>\n",
       "      <td>2018-01-01 08:00:00</td>\n",
       "    </tr>\n",
       "    <tr>\n",
       "      <th>1</th>\n",
       "      <td>1514764800000000000</td>\n",
       "      <td>5955277.0</td>\n",
       "      <td>16</td>\n",
       "      <td>1.0</td>\n",
       "      <td>33932.0</td>\n",
       "      <td>30000.0</td>\n",
       "      <td>33184.0</td>\n",
       "      <td>30029.0</td>\n",
       "      <td>29.0</td>\n",
       "      <td>46.0</td>\n",
       "      <td>31407.0</td>\n",
       "      <td>31407.0</td>\n",
       "      <td>31207.0</td>\n",
       "      <td>31239.0</td>\n",
       "      <td>1001127.0</td>\n",
       "      <td>1515432070000000000</td>\n",
       "      <td>2018-01-01 08:00:00</td>\n",
       "    </tr>\n",
       "    <tr>\n",
       "      <th>2</th>\n",
       "      <td>1514764800000000000</td>\n",
       "      <td>5955277.0</td>\n",
       "      <td>16</td>\n",
       "      <td>1.0</td>\n",
       "      <td>33932.0</td>\n",
       "      <td>30000.0</td>\n",
       "      <td>33184.0</td>\n",
       "      <td>30029.0</td>\n",
       "      <td>30.0</td>\n",
       "      <td>47.0</td>\n",
       "      <td>31484.0</td>\n",
       "      <td>31484.0</td>\n",
       "      <td>31281.0</td>\n",
       "      <td>31288.0</td>\n",
       "      <td>1001127.0</td>\n",
       "      <td>1515432070000000000</td>\n",
       "      <td>2018-01-01 08:00:00</td>\n",
       "    </tr>\n",
       "    <tr>\n",
       "      <th>3</th>\n",
       "      <td>1514764800000000000</td>\n",
       "      <td>5955277.0</td>\n",
       "      <td>16</td>\n",
       "      <td>1.0</td>\n",
       "      <td>33932.0</td>\n",
       "      <td>30000.0</td>\n",
       "      <td>33184.0</td>\n",
       "      <td>30029.0</td>\n",
       "      <td>31.0</td>\n",
       "      <td>48.0</td>\n",
       "      <td>31551.0</td>\n",
       "      <td>31551.0</td>\n",
       "      <td>31315.0</td>\n",
       "      <td>31327.0</td>\n",
       "      <td>1001127.0</td>\n",
       "      <td>1515432070000000000</td>\n",
       "      <td>2018-01-01 08:00:00</td>\n",
       "    </tr>\n",
       "    <tr>\n",
       "      <th>4</th>\n",
       "      <td>1514764800000000000</td>\n",
       "      <td>5955277.0</td>\n",
       "      <td>16</td>\n",
       "      <td>1.0</td>\n",
       "      <td>33932.0</td>\n",
       "      <td>30000.0</td>\n",
       "      <td>33184.0</td>\n",
       "      <td>30029.0</td>\n",
       "      <td>32.0</td>\n",
       "      <td>49.0</td>\n",
       "      <td>31646.0</td>\n",
       "      <td>31646.0</td>\n",
       "      <td>31362.0</td>\n",
       "      <td>31439.0</td>\n",
       "      <td>1001127.0</td>\n",
       "      <td>1515432070000000000</td>\n",
       "      <td>2018-01-01 08:00:00</td>\n",
       "    </tr>\n",
       "  </tbody>\n",
       "</table>\n",
       "</div>"
      ],
      "text/plain": [
       "          DayOfService     TripID LineId  Direction  TPlannedTime_Arr  \\\n",
       "0  1514764800000000000  5955277.0     16        1.0           33932.0   \n",
       "1  1514764800000000000  5955277.0     16        1.0           33932.0   \n",
       "2  1514764800000000000  5955277.0     16        1.0           33932.0   \n",
       "3  1514764800000000000  5955277.0     16        1.0           33932.0   \n",
       "4  1514764800000000000  5955277.0     16        1.0           33932.0   \n",
       "\n",
       "   TPlannedTime_Dep  TActualTime_Arr  TActualTime_Dep  progrnumber  \\\n",
       "0           30000.0          33184.0          30029.0         28.0   \n",
       "1           30000.0          33184.0          30029.0         29.0   \n",
       "2           30000.0          33184.0          30029.0         30.0   \n",
       "3           30000.0          33184.0          30029.0         31.0   \n",
       "4           30000.0          33184.0          30029.0         32.0   \n",
       "\n",
       "   stoppointid  Lplannedtime_arr  Lplannedtime_dep  Lactualtime_arr  \\\n",
       "0         45.0           31343.0           31343.0          31152.0   \n",
       "1         46.0           31407.0           31407.0          31207.0   \n",
       "2         47.0           31484.0           31484.0          31281.0   \n",
       "3         48.0           31551.0           31551.0          31315.0   \n",
       "4         49.0           31646.0           31646.0          31362.0   \n",
       "\n",
       "   Lactualtime_dep  vehicleid           lastupdate         weatherdate  \n",
       "0          31163.0  1001127.0  1515432070000000000 2018-01-01 08:00:00  \n",
       "1          31239.0  1001127.0  1515432070000000000 2018-01-01 08:00:00  \n",
       "2          31288.0  1001127.0  1515432070000000000 2018-01-01 08:00:00  \n",
       "3          31327.0  1001127.0  1515432070000000000 2018-01-01 08:00:00  \n",
       "4          31439.0  1001127.0  1515432070000000000 2018-01-01 08:00:00  "
      ]
     },
     "execution_count": 1,
     "metadata": {},
     "output_type": "execute_result"
    }
   ],
   "source": [
    "df.head()"
   ]
  },
  {
   "cell_type": "markdown",
   "metadata": {},
   "source": [
    "merge the weather and dublin bus on this new column"
   ]
  },
  {
   "cell_type": "code",
   "execution_count": 28,
   "metadata": {
    "execution": {
     "iopub.execute_input": "2021-06-27T13:55:59.043658Z",
     "iopub.status.busy": "2021-06-27T13:55:59.043658Z",
     "iopub.status.idle": "2021-06-27T13:55:59.083181Z",
     "shell.execute_reply": "2021-06-27T13:55:59.079174Z"
    }
   },
   "outputs": [],
   "source": [
    "final = pd.merge(df,wdf, on='weatherdate')"
   ]
  },
  {
   "cell_type": "code",
   "execution_count": 29,
   "metadata": {
    "execution": {
     "iopub.execute_input": "2021-06-27T13:55:59.091209Z",
     "iopub.status.busy": "2021-06-27T13:55:59.087213Z",
     "iopub.status.idle": "2021-06-27T13:55:59.110468Z",
     "shell.execute_reply": "2021-06-27T13:55:59.110468Z"
    }
   },
   "outputs": [
    {
     "data": {
      "text/plain": [
       "Index(['DayOfService', 'TripID', 'LineId', 'Direction', 'TPlannedTime_Arr',\n",
       "       'TPlannedTime_Dep', 'TActualTime_Arr', 'TActualTime_Dep', 'progrnumber',\n",
       "       'stoppointid', 'Lplannedtime_arr', 'Lplannedtime_dep',\n",
       "       'Lactualtime_arr', 'Lactualtime_dep', 'vehicleid', 'lastupdate',\n",
       "       'weatherdate', 'rain', 'temp', 'wetb', 'dewpt', 'vappr', 'rhum', 'msl'],\n",
       "      dtype='object')"
      ]
     },
     "execution_count": 1,
     "metadata": {},
     "output_type": "execute_result"
    }
   ],
   "source": [
    "final.columns"
   ]
  },
  {
   "cell_type": "markdown",
   "metadata": {},
   "source": [
    "remove the weather date column as no longer necessary"
   ]
  },
  {
   "cell_type": "code",
   "execution_count": 30,
   "metadata": {
    "execution": {
     "iopub.execute_input": "2021-06-27T13:55:59.123641Z",
     "iopub.status.busy": "2021-06-27T13:55:59.123641Z",
     "iopub.status.idle": "2021-06-27T13:55:59.152429Z",
     "shell.execute_reply": "2021-06-27T13:55:59.152429Z"
    }
   },
   "outputs": [],
   "source": [
    "final = final.drop('weatherdate', 1)"
   ]
  },
  {
   "cell_type": "markdown",
   "metadata": {},
   "source": [
    "# Inspect the new dataframe"
   ]
  },
  {
   "cell_type": "code",
   "execution_count": 31,
   "metadata": {
    "execution": {
     "iopub.execute_input": "2021-06-27T13:55:59.156467Z",
     "iopub.status.busy": "2021-06-27T13:55:59.156467Z",
     "iopub.status.idle": "2021-06-27T13:55:59.164563Z",
     "shell.execute_reply": "2021-06-27T13:55:59.164563Z"
    }
   },
   "outputs": [
    {
     "data": {
      "text/plain": [
       "(47903, 23)"
      ]
     },
     "execution_count": 1,
     "metadata": {},
     "output_type": "execute_result"
    }
   ],
   "source": [
    "final.shape"
   ]
  },
  {
   "cell_type": "code",
   "execution_count": 32,
   "metadata": {
    "execution": {
     "iopub.execute_input": "2021-06-27T13:55:59.190326Z",
     "iopub.status.busy": "2021-06-27T13:55:59.190326Z",
     "iopub.status.idle": "2021-06-27T13:55:59.214629Z",
     "shell.execute_reply": "2021-06-27T13:55:59.214629Z"
    }
   },
   "outputs": [
    {
     "data": {
      "text/html": [
       "<div>\n",
       "<style scoped>\n",
       "    .dataframe tbody tr th:only-of-type {\n",
       "        vertical-align: middle;\n",
       "    }\n",
       "\n",
       "    .dataframe tbody tr th {\n",
       "        vertical-align: top;\n",
       "    }\n",
       "\n",
       "    .dataframe thead th {\n",
       "        text-align: right;\n",
       "    }\n",
       "</style>\n",
       "<table border=\"1\" class=\"dataframe\">\n",
       "  <thead>\n",
       "    <tr style=\"text-align: right;\">\n",
       "      <th></th>\n",
       "      <th>DayOfService</th>\n",
       "      <th>TripID</th>\n",
       "      <th>LineId</th>\n",
       "      <th>Direction</th>\n",
       "      <th>TPlannedTime_Arr</th>\n",
       "      <th>TPlannedTime_Dep</th>\n",
       "      <th>TActualTime_Arr</th>\n",
       "      <th>TActualTime_Dep</th>\n",
       "      <th>progrnumber</th>\n",
       "      <th>stoppointid</th>\n",
       "      <th>...</th>\n",
       "      <th>Lactualtime_dep</th>\n",
       "      <th>vehicleid</th>\n",
       "      <th>lastupdate</th>\n",
       "      <th>rain</th>\n",
       "      <th>temp</th>\n",
       "      <th>wetb</th>\n",
       "      <th>dewpt</th>\n",
       "      <th>vappr</th>\n",
       "      <th>rhum</th>\n",
       "      <th>msl</th>\n",
       "    </tr>\n",
       "  </thead>\n",
       "  <tbody>\n",
       "    <tr>\n",
       "      <th>0</th>\n",
       "      <td>1514764800000000000</td>\n",
       "      <td>5955277.0</td>\n",
       "      <td>16</td>\n",
       "      <td>1.0</td>\n",
       "      <td>33932.0</td>\n",
       "      <td>30000.0</td>\n",
       "      <td>33184.0</td>\n",
       "      <td>30029.0</td>\n",
       "      <td>28.0</td>\n",
       "      <td>45.0</td>\n",
       "      <td>...</td>\n",
       "      <td>31163.0</td>\n",
       "      <td>1001127.0</td>\n",
       "      <td>1515432070000000000</td>\n",
       "      <td>0.0</td>\n",
       "      <td>4.3</td>\n",
       "      <td>3.4</td>\n",
       "      <td>2.0</td>\n",
       "      <td>7.0</td>\n",
       "      <td>84.0</td>\n",
       "      <td>991.8</td>\n",
       "    </tr>\n",
       "    <tr>\n",
       "      <th>1</th>\n",
       "      <td>1514764800000000000</td>\n",
       "      <td>5955277.0</td>\n",
       "      <td>16</td>\n",
       "      <td>1.0</td>\n",
       "      <td>33932.0</td>\n",
       "      <td>30000.0</td>\n",
       "      <td>33184.0</td>\n",
       "      <td>30029.0</td>\n",
       "      <td>29.0</td>\n",
       "      <td>46.0</td>\n",
       "      <td>...</td>\n",
       "      <td>31239.0</td>\n",
       "      <td>1001127.0</td>\n",
       "      <td>1515432070000000000</td>\n",
       "      <td>0.0</td>\n",
       "      <td>4.3</td>\n",
       "      <td>3.4</td>\n",
       "      <td>2.0</td>\n",
       "      <td>7.0</td>\n",
       "      <td>84.0</td>\n",
       "      <td>991.8</td>\n",
       "    </tr>\n",
       "    <tr>\n",
       "      <th>2</th>\n",
       "      <td>1514764800000000000</td>\n",
       "      <td>5955277.0</td>\n",
       "      <td>16</td>\n",
       "      <td>1.0</td>\n",
       "      <td>33932.0</td>\n",
       "      <td>30000.0</td>\n",
       "      <td>33184.0</td>\n",
       "      <td>30029.0</td>\n",
       "      <td>30.0</td>\n",
       "      <td>47.0</td>\n",
       "      <td>...</td>\n",
       "      <td>31288.0</td>\n",
       "      <td>1001127.0</td>\n",
       "      <td>1515432070000000000</td>\n",
       "      <td>0.0</td>\n",
       "      <td>4.3</td>\n",
       "      <td>3.4</td>\n",
       "      <td>2.0</td>\n",
       "      <td>7.0</td>\n",
       "      <td>84.0</td>\n",
       "      <td>991.8</td>\n",
       "    </tr>\n",
       "    <tr>\n",
       "      <th>3</th>\n",
       "      <td>1514764800000000000</td>\n",
       "      <td>5955277.0</td>\n",
       "      <td>16</td>\n",
       "      <td>1.0</td>\n",
       "      <td>33932.0</td>\n",
       "      <td>30000.0</td>\n",
       "      <td>33184.0</td>\n",
       "      <td>30029.0</td>\n",
       "      <td>31.0</td>\n",
       "      <td>48.0</td>\n",
       "      <td>...</td>\n",
       "      <td>31327.0</td>\n",
       "      <td>1001127.0</td>\n",
       "      <td>1515432070000000000</td>\n",
       "      <td>0.0</td>\n",
       "      <td>4.3</td>\n",
       "      <td>3.4</td>\n",
       "      <td>2.0</td>\n",
       "      <td>7.0</td>\n",
       "      <td>84.0</td>\n",
       "      <td>991.8</td>\n",
       "    </tr>\n",
       "    <tr>\n",
       "      <th>4</th>\n",
       "      <td>1514764800000000000</td>\n",
       "      <td>5955277.0</td>\n",
       "      <td>16</td>\n",
       "      <td>1.0</td>\n",
       "      <td>33932.0</td>\n",
       "      <td>30000.0</td>\n",
       "      <td>33184.0</td>\n",
       "      <td>30029.0</td>\n",
       "      <td>32.0</td>\n",
       "      <td>49.0</td>\n",
       "      <td>...</td>\n",
       "      <td>31439.0</td>\n",
       "      <td>1001127.0</td>\n",
       "      <td>1515432070000000000</td>\n",
       "      <td>0.0</td>\n",
       "      <td>4.3</td>\n",
       "      <td>3.4</td>\n",
       "      <td>2.0</td>\n",
       "      <td>7.0</td>\n",
       "      <td>84.0</td>\n",
       "      <td>991.8</td>\n",
       "    </tr>\n",
       "  </tbody>\n",
       "</table>\n",
       "<p>5 rows × 23 columns</p>\n",
       "</div>"
      ],
      "text/plain": [
       "          DayOfService     TripID LineId  Direction  TPlannedTime_Arr  \\\n",
       "0  1514764800000000000  5955277.0     16        1.0           33932.0   \n",
       "1  1514764800000000000  5955277.0     16        1.0           33932.0   \n",
       "2  1514764800000000000  5955277.0     16        1.0           33932.0   \n",
       "3  1514764800000000000  5955277.0     16        1.0           33932.0   \n",
       "4  1514764800000000000  5955277.0     16        1.0           33932.0   \n",
       "\n",
       "   TPlannedTime_Dep  TActualTime_Arr  TActualTime_Dep  progrnumber  \\\n",
       "0           30000.0          33184.0          30029.0         28.0   \n",
       "1           30000.0          33184.0          30029.0         29.0   \n",
       "2           30000.0          33184.0          30029.0         30.0   \n",
       "3           30000.0          33184.0          30029.0         31.0   \n",
       "4           30000.0          33184.0          30029.0         32.0   \n",
       "\n",
       "   stoppointid  ...  Lactualtime_dep  vehicleid           lastupdate  rain  \\\n",
       "0         45.0  ...          31163.0  1001127.0  1515432070000000000   0.0   \n",
       "1         46.0  ...          31239.0  1001127.0  1515432070000000000   0.0   \n",
       "2         47.0  ...          31288.0  1001127.0  1515432070000000000   0.0   \n",
       "3         48.0  ...          31327.0  1001127.0  1515432070000000000   0.0   \n",
       "4         49.0  ...          31439.0  1001127.0  1515432070000000000   0.0   \n",
       "\n",
       "   temp  wetb  dewpt  vappr  rhum    msl  \n",
       "0   4.3   3.4    2.0    7.0  84.0  991.8  \n",
       "1   4.3   3.4    2.0    7.0  84.0  991.8  \n",
       "2   4.3   3.4    2.0    7.0  84.0  991.8  \n",
       "3   4.3   3.4    2.0    7.0  84.0  991.8  \n",
       "4   4.3   3.4    2.0    7.0  84.0  991.8  \n",
       "\n",
       "[5 rows x 23 columns]"
      ]
     },
     "execution_count": 1,
     "metadata": {},
     "output_type": "execute_result"
    }
   ],
   "source": [
    "final.head()"
   ]
  },
  {
   "cell_type": "markdown",
   "metadata": {},
   "source": [
    "# Prepare the datframe for the model"
   ]
  },
  {
   "cell_type": "code",
   "execution_count": 33,
   "metadata": {
    "execution": {
     "iopub.execute_input": "2021-06-27T13:55:59.235718Z",
     "iopub.status.busy": "2021-06-27T13:55:59.235718Z",
     "iopub.status.idle": "2021-06-27T13:55:59.260770Z",
     "shell.execute_reply": "2021-06-27T13:55:59.254993Z"
    }
   },
   "outputs": [],
   "source": [
    "final = pd.get_dummies(final)"
   ]
  },
  {
   "cell_type": "code",
   "execution_count": 34,
   "metadata": {
    "execution": {
     "iopub.execute_input": "2021-06-27T13:55:59.264811Z",
     "iopub.status.busy": "2021-06-27T13:55:59.264811Z",
     "iopub.status.idle": "2021-06-27T13:55:59.278058Z",
     "shell.execute_reply": "2021-06-27T13:55:59.278058Z"
    }
   },
   "outputs": [],
   "source": [
    "y = final[\"TActualTime_Arr\"]"
   ]
  },
  {
   "cell_type": "code",
   "execution_count": 35,
   "metadata": {
    "execution": {
     "iopub.execute_input": "2021-06-27T13:55:59.286107Z",
     "iopub.status.busy": "2021-06-27T13:55:59.286107Z",
     "iopub.status.idle": "2021-06-27T13:55:59.294053Z",
     "shell.execute_reply": "2021-06-27T13:55:59.294053Z"
    }
   },
   "outputs": [],
   "source": [
    "X_col = list(final.columns)\n",
    "X_col.remove(\"TActualTime_Arr\")"
   ]
  },
  {
   "cell_type": "code",
   "execution_count": 36,
   "metadata": {
    "execution": {
     "iopub.execute_input": "2021-06-27T13:55:59.300820Z",
     "iopub.status.busy": "2021-06-27T13:55:59.300820Z",
     "iopub.status.idle": "2021-06-27T13:55:59.324179Z",
     "shell.execute_reply": "2021-06-27T13:55:59.324179Z"
    }
   },
   "outputs": [],
   "source": [
    "X = final[X_col]"
   ]
  },
  {
   "cell_type": "code",
   "execution_count": 37,
   "metadata": {
    "execution": {
     "iopub.execute_input": "2021-06-27T13:55:59.332104Z",
     "iopub.status.busy": "2021-06-27T13:55:59.328062Z",
     "iopub.status.idle": "2021-06-27T13:55:59.340196Z",
     "shell.execute_reply": "2021-06-27T13:55:59.340196Z"
    }
   },
   "outputs": [],
   "source": [
    "test_size = int(X.shape[0] * 0.7)"
   ]
  },
  {
   "cell_type": "code",
   "execution_count": 38,
   "metadata": {
    "execution": {
     "iopub.execute_input": "2021-06-27T13:55:59.346520Z",
     "iopub.status.busy": "2021-06-27T13:55:59.346520Z",
     "iopub.status.idle": "2021-06-27T13:55:59.386930Z",
     "shell.execute_reply": "2021-06-27T13:55:59.386930Z"
    }
   },
   "outputs": [],
   "source": [
    "X_train, X_test, y_train, y_test = X.loc[final.index[:test_size]], X.loc[final.index[test_size:]], y.loc[final.index[:test_size]], y.loc[final.index[test_size:]]"
   ]
  },
  {
   "cell_type": "code",
   "execution_count": 39,
   "metadata": {
    "execution": {
     "iopub.execute_input": "2021-06-27T13:55:59.390975Z",
     "iopub.status.busy": "2021-06-27T13:55:59.390975Z",
     "iopub.status.idle": "2021-06-27T13:55:59.400725Z",
     "shell.execute_reply": "2021-06-27T13:55:59.400725Z"
    }
   },
   "outputs": [
    {
     "data": {
      "text/plain": [
       "(33532, 89)"
      ]
     },
     "execution_count": 1,
     "metadata": {},
     "output_type": "execute_result"
    }
   ],
   "source": [
    "X_train.shape"
   ]
  },
  {
   "cell_type": "code",
   "execution_count": 40,
   "metadata": {
    "execution": {
     "iopub.execute_input": "2021-06-27T13:55:59.404681Z",
     "iopub.status.busy": "2021-06-27T13:55:59.404681Z",
     "iopub.status.idle": "2021-06-27T13:55:59.421666Z",
     "shell.execute_reply": "2021-06-27T13:55:59.421666Z"
    }
   },
   "outputs": [
    {
     "data": {
      "text/plain": [
       "Index(['DayOfService', 'TripID', 'Direction', 'TPlannedTime_Arr',\n",
       "       'TPlannedTime_Dep', 'TActualTime_Dep', 'progrnumber', 'stoppointid',\n",
       "       'Lplannedtime_arr', 'Lplannedtime_dep', 'Lactualtime_arr',\n",
       "       'Lactualtime_dep', 'vehicleid', 'lastupdate', 'rain', 'temp', 'wetb',\n",
       "       'dewpt', 'vappr', 'rhum', 'msl', 'LineId_1', 'LineId_102', 'LineId_11',\n",
       "       'LineId_120', 'LineId_123', 'LineId_13', 'LineId_130', 'LineId_14',\n",
       "       'LineId_140', 'LineId_145', 'LineId_14C', 'LineId_15', 'LineId_151',\n",
       "       'LineId_16', 'LineId_16C', 'LineId_17A', 'LineId_18', 'LineId_184',\n",
       "       'LineId_220', 'LineId_25A', 'LineId_25B', 'LineId_26', 'LineId_27',\n",
       "       'LineId_270', 'LineId_27A', 'LineId_27B', 'LineId_29A', 'LineId_31',\n",
       "       'LineId_32', 'LineId_33', 'LineId_33A', 'LineId_33B', 'LineId_37',\n",
       "       'LineId_38', 'LineId_38A', 'LineId_39', 'LineId_39A', 'LineId_4',\n",
       "       'LineId_40', 'LineId_40B', 'LineId_40D', 'LineId_41', 'LineId_41B',\n",
       "       'LineId_41C', 'LineId_42', 'LineId_44', 'LineId_45A', 'LineId_46A',\n",
       "       'LineId_47', 'LineId_49', 'LineId_53', 'LineId_56A', 'LineId_61',\n",
       "       'LineId_65', 'LineId_66', 'LineId_66A', 'LineId_67', 'LineId_68',\n",
       "       'LineId_69', 'LineId_7', 'LineId_75', 'LineId_76', 'LineId_79',\n",
       "       'LineId_7A', 'LineId_83', 'LineId_83A', 'LineId_84', 'LineId_9'],\n",
       "      dtype='object')"
      ]
     },
     "execution_count": 1,
     "metadata": {},
     "output_type": "execute_result"
    }
   ],
   "source": [
    "X_train.columns"
   ]
  },
  {
   "cell_type": "code",
   "execution_count": 41,
   "metadata": {
    "execution": {
     "iopub.execute_input": "2021-06-27T13:55:59.425674Z",
     "iopub.status.busy": "2021-06-27T13:55:59.425674Z",
     "iopub.status.idle": "2021-06-27T13:55:59.668466Z",
     "shell.execute_reply": "2021-06-27T13:55:59.668466Z"
    }
   },
   "outputs": [],
   "source": [
    "linreg = LinearRegression().fit(X_train, y_train)"
   ]
  },
  {
   "cell_type": "code",
   "execution_count": 42,
   "metadata": {
    "execution": {
     "iopub.execute_input": "2021-06-27T13:55:59.676458Z",
     "iopub.status.busy": "2021-06-27T13:55:59.676458Z",
     "iopub.status.idle": "2021-06-27T13:55:59.700482Z",
     "shell.execute_reply": "2021-06-27T13:55:59.700482Z"
    }
   },
   "outputs": [],
   "source": [
    "results = linreg.predict(X_train)"
   ]
  },
  {
   "cell_type": "code",
   "execution_count": 43,
   "metadata": {
    "execution": {
     "iopub.execute_input": "2021-06-27T13:55:59.704503Z",
     "iopub.status.busy": "2021-06-27T13:55:59.704503Z",
     "iopub.status.idle": "2021-06-27T13:55:59.714957Z",
     "shell.execute_reply": "2021-06-27T13:55:59.714957Z"
    }
   },
   "outputs": [
    {
     "name": "stdout",
     "output_type": "stream",
     "text": [
      "MAE 246.33910083691117\n",
      "MSE 143086.3436030355\n",
      "RMSE 378.267555578106\n"
     ]
    }
   ],
   "source": [
    "print(\"MAE\", metrics.mean_absolute_error(y_train, results))\n",
    "print(\"MSE\",metrics.mean_squared_error(y_train, results))\n",
    "print(\"RMSE\",np.sqrt(metrics.mean_squared_error(y_train, results)))"
   ]
  },
  {
   "cell_type": "code",
   "execution_count": 44,
   "metadata": {
    "execution": {
     "iopub.execute_input": "2021-06-27T13:55:59.724048Z",
     "iopub.status.busy": "2021-06-27T13:55:59.720020Z",
     "iopub.status.idle": "2021-06-27T13:55:59.729802Z",
     "shell.execute_reply": "2021-06-27T13:55:59.729802Z"
    }
   },
   "outputs": [],
   "source": [
    "mean_time_error = sum(abs(y_train - results))/ len(y_train)"
   ]
  },
  {
   "cell_type": "code",
   "execution_count": 45,
   "metadata": {
    "execution": {
     "iopub.execute_input": "2021-06-27T13:55:59.732012Z",
     "iopub.status.busy": "2021-06-27T13:55:59.732012Z",
     "iopub.status.idle": "2021-06-27T13:55:59.747053Z",
     "shell.execute_reply": "2021-06-27T13:55:59.747053Z"
    }
   },
   "outputs": [
    {
     "data": {
      "text/plain": [
       "'0 days 00:04:06.339100837'"
      ]
     },
     "execution_count": 1,
     "metadata": {},
     "output_type": "execute_result"
    }
   ],
   "source": [
    "str(pd.to_timedelta(mean_time_error, unit='s'))"
   ]
  },
  {
   "cell_type": "code",
   "execution_count": 46,
   "metadata": {
    "execution": {
     "iopub.execute_input": "2021-06-27T13:55:59.760814Z",
     "iopub.status.busy": "2021-06-27T13:55:59.760814Z",
     "iopub.status.idle": "2021-06-27T13:55:59.778525Z",
     "shell.execute_reply": "2021-06-27T13:55:59.778525Z"
    }
   },
   "outputs": [],
   "source": [
    "results = linreg.predict(X_test)"
   ]
  },
  {
   "cell_type": "code",
   "execution_count": 47,
   "metadata": {
    "execution": {
     "iopub.execute_input": "2021-06-27T13:55:59.782568Z",
     "iopub.status.busy": "2021-06-27T13:55:59.782568Z",
     "iopub.status.idle": "2021-06-27T13:55:59.796719Z",
     "shell.execute_reply": "2021-06-27T13:55:59.796719Z"
    }
   },
   "outputs": [
    {
     "name": "stdout",
     "output_type": "stream",
     "text": [
      "MAE 292.7127973213963\n",
      "MSE 170340.6258074801\n",
      "RMSE 412.72342531952324\n"
     ]
    }
   ],
   "source": [
    "print(\"MAE\", metrics.mean_absolute_error(y_test, results))\n",
    "print(\"MSE\",metrics.mean_squared_error(y_test, results))\n",
    "print(\"RMSE\",np.sqrt(metrics.mean_squared_error(y_test, results)))"
   ]
  },
  {
   "cell_type": "code",
   "execution_count": 48,
   "metadata": {
    "execution": {
     "iopub.execute_input": "2021-06-27T13:55:59.800728Z",
     "iopub.status.busy": "2021-06-27T13:55:59.800728Z",
     "iopub.status.idle": "2021-06-27T13:55:59.811718Z",
     "shell.execute_reply": "2021-06-27T13:55:59.811718Z"
    }
   },
   "outputs": [
    {
     "data": {
      "text/plain": [
       "'0 days 00:04:52.712797321'"
      ]
     },
     "execution_count": 1,
     "metadata": {},
     "output_type": "execute_result"
    }
   ],
   "source": [
    "mean_time_error = sum(abs(y_test - results))/ len(y_test)\n",
    "str(pd.to_timedelta(mean_time_error, unit='s'))"
   ]
  },
  {
   "cell_type": "code",
   "execution_count": 49,
   "metadata": {
    "execution": {
     "iopub.execute_input": "2021-06-27T13:55:59.815762Z",
     "iopub.status.busy": "2021-06-27T13:55:59.815762Z",
     "iopub.status.idle": "2021-06-27T13:55:59.846949Z",
     "shell.execute_reply": "2021-06-27T13:55:59.843883Z"
    }
   },
   "outputs": [
    {
     "data": {
      "text/plain": [
       "array([74412.30233765, 74467.31913757, 69231.24475098, ...,\n",
       "       26409.07618713, 26419.20217896, 26413.68605042])"
      ]
     },
     "execution_count": 1,
     "metadata": {},
     "output_type": "execute_result"
    }
   ],
   "source": [
    "dump(linreg, \"./MODELS/january.joblib\")\n",
    "model = load(\"./MODELS/january.joblib\")\n",
    "model.predict(X_test)"
   ]
  },
  {
   "cell_type": "code",
   "execution_count": 50,
   "metadata": {
    "execution": {
     "iopub.execute_input": "2021-06-27T13:55:59.846949Z",
     "iopub.status.busy": "2021-06-27T13:55:59.846949Z",
     "iopub.status.idle": "2021-06-27T13:55:59.856064Z",
     "shell.execute_reply": "2021-06-27T13:55:59.856064Z"
    }
   },
   "outputs": [
    {
     "name": "stdout",
     "output_type": "stream",
     "text": [
      "Success\n"
     ]
    }
   ],
   "source": [
    "print(\"Success\")"
   ]
  }
 ],
 "metadata": {
  "kernelspec": {
   "display_name": "Python 3",
   "language": "python",
   "name": "python3"
  },
  "language_info": {
   "codemirror_mode": {
    "name": "ipython",
    "version": 3
   },
   "file_extension": ".py",
   "mimetype": "text/x-python",
   "name": "python",
   "nbconvert_exporter": "python",
   "pygments_lexer": "ipython3",
   "version": "3.8.3"
  }
 },
 "nbformat": 4,
 "nbformat_minor": 4
}
