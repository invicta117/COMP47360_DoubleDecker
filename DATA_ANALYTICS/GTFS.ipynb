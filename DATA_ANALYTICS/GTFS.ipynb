{
 "cells": [
  {
   "cell_type": "code",
   "execution_count": 14,
   "metadata": {},
   "outputs": [
    {
     "data": {
      "text/plain": [
       "'00:31:41'"
      ]
     },
     "execution_count": 14,
     "metadata": {},
     "output_type": "execute_result"
    }
   ],
   "source": [
    "from datetime import datetime\n",
    "datetime.fromtimestamp(1626391901000/ 1e3).strftime(\"%H:%M:%S\")"
   ]
  },
  {
   "cell_type": "code",
   "execution_count": 4,
   "metadata": {},
   "outputs": [],
   "source": [
    "import pandas as pd\n",
    "import re\n",
    "import os"
   ]
  },
  {
   "cell_type": "code",
   "execution_count": 9,
   "metadata": {},
   "outputs": [],
   "source": [
    "stop_times = pd.read_csv(\".\"+ os.sep + \"RAW_DATA\"+ os.sep + \"gtfs\"+ os.sep + \"stop_times.txt\", delimiter=\",\")\n",
    "stops = pd.read_csv(\".\"+ os.sep + \"RAW_DATA\"+ os.sep + \"gtfs\" + os.sep +  \"stops.txt\", delimiter=\",\")\n",
    "routes = pd.read_csv(\".\"+ os.sep + \"RAW_DATA\"+ os.sep + \"gtfs\"+ os.sep + \"routes.txt\", delimiter=\",\")\n",
    "trips = pd.read_csv(\".\"+ os.sep + \"RAW_DATA\"+ os.sep + \"gtfs\"+ os.sep + \"trips.txt\", delimiter=\",\")\n",
    "calendar = pd.read_csv(\".\"+ os.sep + \"RAW_DATA\"+ os.sep + \"gtfs\"+ os.sep + \"calendar.txt\", delimiter=\",\")"
   ]
  },
  {
   "cell_type": "code",
   "execution_count": 10,
   "metadata": {},
   "outputs": [],
   "source": [
    "stop_times[\"arrival_time\"] = pd.to_timedelta(stop_times[\"arrival_time\"])"
   ]
  },
  {
   "cell_type": "code",
   "execution_count": 15,
   "metadata": {},
   "outputs": [],
   "source": [
    "departure = \"00:31:41\"\n",
    "origin = \"UCD N11 Entrance\"\n",
    "destination = \"Dawson Street, stop 793\"\n",
    "day = \"thursday\"\n",
    "bus_route = \"11\""
   ]
  },
  {
   "cell_type": "code",
   "execution_count": 16,
   "metadata": {},
   "outputs": [],
   "source": [
    "days = list(calendar[calendar[day] == 1][\"service_id\"].values)"
   ]
  },
  {
   "cell_type": "code",
   "execution_count": 17,
   "metadata": {},
   "outputs": [],
   "source": [
    "day_trips = set(trips[trips[\"service_id\"].isin(days)][\"trip_id\"].values)"
   ]
  },
  {
   "cell_type": "code",
   "execution_count": 18,
   "metadata": {},
   "outputs": [],
   "source": [
    "route_trips = set(trips[trips[\"route_id\"].isin(list(routes[routes[\"route_short_name\"] == bus_route][\"route_id\"].values))][\"trip_id\"].values)"
   ]
  },
  {
   "cell_type": "code",
   "execution_count": 21,
   "metadata": {},
   "outputs": [],
   "source": [
    "start_trips = stops[stops[\"stop_name\"] == origin][\"stop_id\"].values[0]\n",
    "end_trips = stops[stops[\"stop_name\"] == destination][\"stop_id\"].values[0]"
   ]
  },
  {
   "cell_type": "code",
   "execution_count": null,
   "metadata": {},
   "outputs": [],
   "source": [
    "start_trips  = set(stop_times[stop_times[\"stop_id\"] == start][\"trip_id\"].values)\n",
    "end_trips  = set(stop_times[stop_times[\"stop_id\"] == end][\"trip_id\"].values)"
   ]
  },
  {
   "cell_type": "code",
   "execution_count": null,
   "metadata": {},
   "outputs": [],
   "source": [
    "r = start_trips.intersection(end_trips)\n",
    "r = r.intersection(route_trips)\n",
    "r = r.intersection(day_trips)"
   ]
  },
  {
   "cell_type": "code",
   "execution_count": null,
   "metadata": {},
   "outputs": [],
   "source": []
  },
  {
   "cell_type": "code",
   "execution_count": null,
   "metadata": {},
   "outputs": [],
   "source": [
    "I = None\n",
    "O = None\n",
    "\n",
    "for trip in r:\n",
    "    if re.search(\".I$\", trip):\n",
    "        I = trip\n",
    "        break\n",
    "        \n",
    "for trip in r:\n",
    "    if re.search(\".O$\", trip):\n",
    "        O = trip\n",
    "        break\n",
    "print(O)\n",
    "print(I)"
   ]
  },
  {
   "cell_type": "code",
   "execution_count": null,
   "metadata": {},
   "outputs": [],
   "source": [
    "if O != None and ((stop_times[(stop_times[\"trip_id\"] == O) & (stop_times[\"stop_id\"] == start)][\"stop_sequence\"].values[0]) < (stop_times[(stop_times[\"trip_id\"] == O) & (stop_times[\"stop_id\"] == end)][\"stop_sequence\"].values[0])):\n",
    "    correct_direction = [trip for trip in r if re.search(\".O$\", trip)]\n",
    "elif I != None and ((stop_times[(stop_times[\"trip_id\"] == I) & (stop_times[\"stop_id\"] == start)][\"stop_sequence\"].values[0]) < (stop_times[(stop_times[\"trip_id\"] == I) & (stop_times[\"stop_id\"] == end)][\"stop_sequence\"].values[0])):\n",
    "    correct_direction = [trip for trip in r if re.search(\".I$\", trip)]"
   ]
  },
  {
   "cell_type": "code",
   "execution_count": null,
   "metadata": {},
   "outputs": [],
   "source": [
    "final = stop_times[(stop_times[\"trip_id\"].isin(correct_direction)) & (stop_times[\"stop_id\"] == start)][[\"trip_id\",\"arrival_time\"]]\n",
    "final[\"arrival_time\"] = abs(final[\"arrival_time\"] - pd.to_timedelta(departure))\n",
    "final = final.sort_values(by=\"arrival_time\")"
   ]
  },
  {
   "cell_type": "code",
   "execution_count": null,
   "metadata": {},
   "outputs": [],
   "source": [
    "final"
   ]
  },
  {
   "cell_type": "code",
   "execution_count": null,
   "metadata": {},
   "outputs": [],
   "source": [
    "tripid = final.iloc[0][\"trip_id\"]"
   ]
  },
  {
   "cell_type": "code",
   "execution_count": null,
   "metadata": {},
   "outputs": [],
   "source": [
    "seq = stop_times[stop_times[\"trip_id\"] == tripid][[\"stop_id\", \"stop_sequence\"]].sort_values(by=\"stop_sequence\")"
   ]
  },
  {
   "cell_type": "code",
   "execution_count": null,
   "metadata": {},
   "outputs": [],
   "source": [
    "rstart = seq[seq[\"stop_id\"] == start].index[0]"
   ]
  },
  {
   "cell_type": "code",
   "execution_count": null,
   "metadata": {},
   "outputs": [],
   "source": [
    "rfin = seq[seq[\"stop_id\"] == end].index[0]"
   ]
  },
  {
   "cell_type": "code",
   "execution_count": null,
   "metadata": {},
   "outputs": [],
   "source": [
    "test = seq.loc[rstart:rfin]"
   ]
  },
  {
   "cell_type": "code",
   "execution_count": null,
   "metadata": {},
   "outputs": [],
   "source": [
    "final = test.merge(stops, how='left', on='stop_id')"
   ]
  },
  {
   "cell_type": "code",
   "execution_count": null,
   "metadata": {},
   "outputs": [],
   "source": [
    "flist = list(final[\"stop_name\"].values)\n",
    "flist = [stop.split(\" stop \")[1] for stop in flist]\n",
    "flist"
   ]
  },
  {
   "cell_type": "code",
   "execution_count": null,
   "metadata": {},
   "outputs": [],
   "source": []
  },
  {
   "cell_type": "code",
   "execution_count": null,
   "metadata": {},
   "outputs": [],
   "source": []
  }
 ],
 "metadata": {
  "kernelspec": {
   "display_name": "Python 3",
   "language": "python",
   "name": "python3"
  },
  "language_info": {
   "codemirror_mode": {
    "name": "ipython",
    "version": 3
   },
   "file_extension": ".py",
   "mimetype": "text/x-python",
   "name": "python",
   "nbconvert_exporter": "python",
   "pygments_lexer": "ipython3",
   "version": "3.8.3"
  }
 },
 "nbformat": 4,
 "nbformat_minor": 5
}
