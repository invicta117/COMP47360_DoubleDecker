{
 "cells": [
  {
   "cell_type": "code",
   "execution_count": 344,
   "id": "surrounded-indication",
   "metadata": {},
   "outputs": [],
   "source": [
    "import pandas as pd\n",
    "import re"
   ]
  },
  {
   "cell_type": "code",
   "execution_count": 345,
   "id": "tender-serbia",
   "metadata": {},
   "outputs": [],
   "source": [
    "stop_times = pd.read_csv(\"/home/invicta117/Downloads/gtfs/stop_times.txt\", delimiter=\",\")\n",
    "stops = pd.read_csv(\"/home/invicta117/Downloads/gtfs/stops.txt\", delimiter=\",\")\n",
    "routes = pd.read_csv(\"/home/invicta117/Downloads/gtfs/routes.txt\", delimiter=\",\")\n",
    "trips = pd.read_csv(\"/home/invicta117/Downloads/gtfs/trips.txt\", delimiter=\",\")\n",
    "calendar = pd.read_csv(\"/home/invicta117/Downloads/gtfs/calendar.txt\", delimiter=\",\")"
   ]
  },
  {
   "cell_type": "code",
   "execution_count": 346,
   "id": "palestinian-perry",
   "metadata": {},
   "outputs": [],
   "source": [
    "stop_times[\"arrival_time\"] = pd.to_timedelta(stop_times[\"arrival_time\"])"
   ]
  },
  {
   "cell_type": "code",
   "execution_count": 347,
   "id": "furnished-costa",
   "metadata": {},
   "outputs": [],
   "source": [
    "departure = \"16:02\"\n",
    "origin = \"Clonskeagh Road, stop 878\"\n",
    "destination = \"Dawson Street, stop 793\"\n",
    "day = \"thursday\"\n",
    "bus_route = \"11\""
   ]
  },
  {
   "cell_type": "code",
   "execution_count": 348,
   "id": "handled-calculation",
   "metadata": {},
   "outputs": [],
   "source": [
    "days = list(calendar[calendar[day] == 1][\"service_id\"].values)"
   ]
  },
  {
   "cell_type": "code",
   "execution_count": 349,
   "id": "harmful-taiwan",
   "metadata": {},
   "outputs": [],
   "source": [
    "day_trips = set(trips[trips[\"service_id\"].isin(days)][\"trip_id\"].values)"
   ]
  },
  {
   "cell_type": "code",
   "execution_count": 350,
   "id": "familiar-asthma",
   "metadata": {},
   "outputs": [],
   "source": [
    "route_trips = set(trips[trips[\"route_id\"].isin(list(routes[routes[\"route_short_name\"] == bus_route][\"route_id\"].values))][\"trip_id\"].values)"
   ]
  },
  {
   "cell_type": "code",
   "execution_count": 351,
   "id": "pregnant-ballot",
   "metadata": {},
   "outputs": [],
   "source": [
    "start_trips = stops[stops[\"stop_name\"] == origin][\"stop_id\"].values[0]\n",
    "end_trips = stops[stops[\"stop_name\"] == destination][\"stop_id\"].values[0]"
   ]
  },
  {
   "cell_type": "code",
   "execution_count": 352,
   "id": "diverse-livestock",
   "metadata": {},
   "outputs": [],
   "source": [
    "start_trips  = set(stop_times[stop_times[\"stop_id\"] == start][\"trip_id\"].values)\n",
    "end_trips  = set(stop_times[stop_times[\"stop_id\"] == end][\"trip_id\"].values)"
   ]
  },
  {
   "cell_type": "code",
   "execution_count": 353,
   "id": "stable-crowd",
   "metadata": {},
   "outputs": [],
   "source": [
    "r = start_trips.intersection(end_trips)\n",
    "r = r.intersection(route_trips)\n",
    "r = r.intersection(day_trips)"
   ]
  },
  {
   "cell_type": "code",
   "execution_count": null,
   "id": "improved-storage",
   "metadata": {},
   "outputs": [],
   "source": []
  },
  {
   "cell_type": "code",
   "execution_count": 354,
   "id": "correct-gazette",
   "metadata": {},
   "outputs": [
    {
     "name": "stdout",
     "output_type": "stream",
     "text": [
      "None\n",
      "2026.y1005.60-11-d12-1.16.I\n"
     ]
    }
   ],
   "source": [
    "I = None\n",
    "O = None\n",
    "\n",
    "for trip in r:\n",
    "    if re.search(\".I$\", trip):\n",
    "        I = trip\n",
    "        break\n",
    "        \n",
    "for trip in r:\n",
    "    if re.search(\".O$\", trip):\n",
    "        O = trip\n",
    "        break\n",
    "print(O)\n",
    "print(I)"
   ]
  },
  {
   "cell_type": "code",
   "execution_count": 355,
   "id": "consistent-astronomy",
   "metadata": {},
   "outputs": [],
   "source": [
    "if O != None and ((stop_times[(stop_times[\"trip_id\"] == O) & (stop_times[\"stop_id\"] == start)][\"stop_sequence\"].values[0]) < (stop_times[(stop_times[\"trip_id\"] == O) & (stop_times[\"stop_id\"] == end)][\"stop_sequence\"].values[0])):\n",
    "    correct_direction = [trip for trip in r if re.search(\".O$\", trip)]\n",
    "elif I != None and ((stop_times[(stop_times[\"trip_id\"] == I) & (stop_times[\"stop_id\"] == start)][\"stop_sequence\"].values[0]) < (stop_times[(stop_times[\"trip_id\"] == I) & (stop_times[\"stop_id\"] == end)][\"stop_sequence\"].values[0])):\n",
    "    correct_direction = [trip for trip in r if re.search(\".I$\", trip)]"
   ]
  },
  {
   "cell_type": "code",
   "execution_count": 356,
   "id": "looking-diabetes",
   "metadata": {},
   "outputs": [],
   "source": [
    "final = stop_times[(stop_times[\"trip_id\"].isin(correct_direction)) & (stop_times[\"stop_id\"] == start)][[\"trip_id\",\"arrival_time\"]]\n",
    "final[\"arrival_time\"] = abs(final[\"arrival_time\"] - pd.to_timedelta(departure+':00'))\n",
    "final = final.sort_values(by=\"arrival_time\")"
   ]
  },
  {
   "cell_type": "code",
   "execution_count": 357,
   "id": "contemporary-clerk",
   "metadata": {},
   "outputs": [
    {
     "data": {
      "text/html": [
       "<div>\n",
       "<style scoped>\n",
       "    .dataframe tbody tr th:only-of-type {\n",
       "        vertical-align: middle;\n",
       "    }\n",
       "\n",
       "    .dataframe tbody tr th {\n",
       "        vertical-align: top;\n",
       "    }\n",
       "\n",
       "    .dataframe thead th {\n",
       "        text-align: right;\n",
       "    }\n",
       "</style>\n",
       "<table border=\"1\" class=\"dataframe\">\n",
       "  <thead>\n",
       "    <tr style=\"text-align: right;\">\n",
       "      <th></th>\n",
       "      <th>trip_id</th>\n",
       "      <th>arrival_time</th>\n",
       "    </tr>\n",
       "  </thead>\n",
       "  <tbody>\n",
       "    <tr>\n",
       "      <th>17898</th>\n",
       "      <td>2091.y1005.60-11-d12-1.16.I</td>\n",
       "      <td>0 days 00:00:07</td>\n",
       "    </tr>\n",
       "    <tr>\n",
       "      <th>709429</th>\n",
       "      <td>1991.y1003.60-11-b12-1.18.I</td>\n",
       "      <td>0 days 00:00:07</td>\n",
       "    </tr>\n",
       "    <tr>\n",
       "      <th>709366</th>\n",
       "      <td>1985.y1003.60-11-b12-1.18.I</td>\n",
       "      <td>0 days 00:14:53</td>\n",
       "    </tr>\n",
       "    <tr>\n",
       "      <th>17835</th>\n",
       "      <td>2085.y1005.60-11-d12-1.16.I</td>\n",
       "      <td>0 days 00:14:53</td>\n",
       "    </tr>\n",
       "    <tr>\n",
       "      <th>17772</th>\n",
       "      <td>2058.y1005.60-11-d12-1.16.I</td>\n",
       "      <td>0 days 00:15:07</td>\n",
       "    </tr>\n",
       "    <tr>\n",
       "      <th>...</th>\n",
       "      <td>...</td>\n",
       "      <td>...</td>\n",
       "    </tr>\n",
       "    <tr>\n",
       "      <th>17583</th>\n",
       "      <td>2018.y1005.60-11-d12-1.16.I</td>\n",
       "      <td>0 days 08:39:57</td>\n",
       "    </tr>\n",
       "    <tr>\n",
       "      <th>714784</th>\n",
       "      <td>2001.y1003.60-11-b12-1.18.I</td>\n",
       "      <td>0 days 08:59:57</td>\n",
       "    </tr>\n",
       "    <tr>\n",
       "      <th>17709</th>\n",
       "      <td>2101.y1005.60-11-d12-1.16.I</td>\n",
       "      <td>0 days 08:59:57</td>\n",
       "    </tr>\n",
       "    <tr>\n",
       "      <th>714721</th>\n",
       "      <td>1930.y1003.60-11-b12-1.18.I</td>\n",
       "      <td>0 days 09:19:57</td>\n",
       "    </tr>\n",
       "    <tr>\n",
       "      <th>17646</th>\n",
       "      <td>2030.y1005.60-11-d12-1.16.I</td>\n",
       "      <td>0 days 09:19:57</td>\n",
       "    </tr>\n",
       "  </tbody>\n",
       "</table>\n",
       "<p>86 rows × 2 columns</p>\n",
       "</div>"
      ],
      "text/plain": [
       "                            trip_id    arrival_time\n",
       "17898   2091.y1005.60-11-d12-1.16.I 0 days 00:00:07\n",
       "709429  1991.y1003.60-11-b12-1.18.I 0 days 00:00:07\n",
       "709366  1985.y1003.60-11-b12-1.18.I 0 days 00:14:53\n",
       "17835   2085.y1005.60-11-d12-1.16.I 0 days 00:14:53\n",
       "17772   2058.y1005.60-11-d12-1.16.I 0 days 00:15:07\n",
       "...                             ...             ...\n",
       "17583   2018.y1005.60-11-d12-1.16.I 0 days 08:39:57\n",
       "714784  2001.y1003.60-11-b12-1.18.I 0 days 08:59:57\n",
       "17709   2101.y1005.60-11-d12-1.16.I 0 days 08:59:57\n",
       "714721  1930.y1003.60-11-b12-1.18.I 0 days 09:19:57\n",
       "17646   2030.y1005.60-11-d12-1.16.I 0 days 09:19:57\n",
       "\n",
       "[86 rows x 2 columns]"
      ]
     },
     "execution_count": 357,
     "metadata": {},
     "output_type": "execute_result"
    }
   ],
   "source": [
    "final"
   ]
  },
  {
   "cell_type": "code",
   "execution_count": 358,
   "id": "correct-parliament",
   "metadata": {},
   "outputs": [],
   "source": [
    "tripid = final.iloc[0][\"trip_id\"]"
   ]
  },
  {
   "cell_type": "code",
   "execution_count": 359,
   "id": "strange-horizontal",
   "metadata": {},
   "outputs": [],
   "source": [
    "seq = stop_times[stop_times[\"trip_id\"] == tripid][[\"stop_id\", \"stop_sequence\"]].sort_values(by=\"stop_sequence\")"
   ]
  },
  {
   "cell_type": "code",
   "execution_count": 360,
   "id": "printable-hanging",
   "metadata": {},
   "outputs": [],
   "source": [
    "rstart = seq[seq[\"stop_id\"] == start].index[0]"
   ]
  },
  {
   "cell_type": "code",
   "execution_count": 361,
   "id": "solved-delhi",
   "metadata": {},
   "outputs": [],
   "source": [
    "rfin = seq[seq[\"stop_id\"] == end].index[0]"
   ]
  },
  {
   "cell_type": "code",
   "execution_count": 362,
   "id": "deadly-twins",
   "metadata": {},
   "outputs": [],
   "source": [
    "test = seq.loc[rstart:rfin]"
   ]
  },
  {
   "cell_type": "code",
   "execution_count": 363,
   "id": "incorrect-temperature",
   "metadata": {},
   "outputs": [],
   "source": [
    "final = test.merge(stops, how='left', on='stop_id')"
   ]
  },
  {
   "cell_type": "code",
   "execution_count": 364,
   "id": "downtown-cream",
   "metadata": {},
   "outputs": [
    {
     "data": {
      "text/plain": [
       "['878',\n",
       " '879',\n",
       " '880',\n",
       " '881',\n",
       " '882',\n",
       " '883',\n",
       " '884',\n",
       " '885',\n",
       " '886',\n",
       " '887',\n",
       " '903',\n",
       " '904',\n",
       " '906',\n",
       " '907',\n",
       " '908',\n",
       " '909',\n",
       " '786',\n",
       " '793']"
      ]
     },
     "execution_count": 364,
     "metadata": {},
     "output_type": "execute_result"
    }
   ],
   "source": [
    "flist = list(final[\"stop_name\"].values)\n",
    "flist = [stop.split(\" stop \")[1] for stop in flist]\n",
    "flist"
   ]
  },
  {
   "cell_type": "code",
   "execution_count": null,
   "id": "offensive-belize",
   "metadata": {},
   "outputs": [],
   "source": []
  },
  {
   "cell_type": "code",
   "execution_count": null,
   "id": "timely-lambda",
   "metadata": {},
   "outputs": [],
   "source": []
  }
 ],
 "metadata": {
  "kernelspec": {
   "display_name": "Python 3",
   "language": "python",
   "name": "python3"
  },
  "language_info": {
   "codemirror_mode": {
    "name": "ipython",
    "version": 3
   },
   "file_extension": ".py",
   "mimetype": "text/x-python",
   "name": "python",
   "nbconvert_exporter": "python",
   "pygments_lexer": "ipython3",
   "version": "3.8.5"
  }
 },
 "nbformat": 4,
 "nbformat_minor": 5
}
