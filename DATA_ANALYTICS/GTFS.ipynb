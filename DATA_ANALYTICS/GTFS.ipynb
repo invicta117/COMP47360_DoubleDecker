{
 "cells": [
  {
   "cell_type": "code",
   "execution_count": 1,
   "metadata": {},
   "outputs": [],
   "source": [
    "import pandas as pd\n",
    "import re\n",
    "import os\n",
    "from geopy.distance import distance as d"
   ]
  },
  {
   "cell_type": "code",
   "execution_count": 2,
   "metadata": {},
   "outputs": [],
   "source": [
    "stop_times = pd.read_csv(\".\"+ os.sep + \"RAW_DATA\"+ os.sep + \"gtfs\"+ os.sep + \"stop_times.txt\", delimiter=\",\")\n",
    "stops = pd.read_csv(\".\"+ os.sep + \"RAW_DATA\"+ os.sep + \"gtfs\" + os.sep +  \"stops.txt\", delimiter=\",\")\n",
    "routes = pd.read_csv(\".\"+ os.sep + \"RAW_DATA\"+ os.sep + \"gtfs\"+ os.sep + \"routes.txt\", delimiter=\",\")\n",
    "trips = pd.read_csv(\".\"+ os.sep + \"RAW_DATA\"+ os.sep + \"gtfs\"+ os.sep + \"trips.txt\", delimiter=\",\")\n",
    "calendar = pd.read_csv(\".\"+ os.sep + \"RAW_DATA\"+ os.sep + \"gtfs\"+ os.sep + \"calendar.txt\", delimiter=\",\")"
   ]
  },
  {
   "cell_type": "code",
   "execution_count": 3,
   "metadata": {},
   "outputs": [],
   "source": [
    "stop_times[\"arrival_time\"] = pd.to_timedelta(stop_times[\"arrival_time\"])"
   ]
  },
  {
   "cell_type": "code",
   "execution_count": 4,
   "metadata": {},
   "outputs": [],
   "source": [
    "departure = \"00:31:41\"\n",
    "destination =  (53.3404818, -6.2585706) #\"Dawson Street, stop 793\"\n",
    "origin =  (53.3094124, -6.218878399999999) #\"UCD Belfield, stop 768\"\n",
    "day = \"Saturday\"\n",
    "day = day.lower()\n",
    "bus_route = \"39A\"\n",
    "bus_route = bus_route.lower()"
   ]
  },
  {
   "cell_type": "code",
   "execution_count": 11,
   "metadata": {},
   "outputs": [],
   "source": [
    "def get_route(departure, olat, olng, dlat, dlng, day, bus_route):\n",
    "    day = day.lower()\n",
    "    bus_route = bus_route.lower()\n",
    "    \n",
    "    def trips_day(day):\n",
    "        \"\"\"Get all trips for that day\"\"\"\n",
    "        days = list(calendar[calendar[day] == 1][\"service_id\"].values)\n",
    "        day_trips = set(trips[trips[\"service_id\"].isin(days)][\"trip_id\"].values)\n",
    "        return day_trips\n",
    "    \n",
    "    def trips_route(bus_route):\n",
    "        \"\"\"Get all the trips for that route\"\"\"\n",
    "        route_trips = set(trips[trips[\"route_id\"].isin(list(routes[routes[\"route_short_name\"] == bus_route][\"route_id\"].values))][\n",
    "                \"trip_id\"].values)\n",
    "        return route_trips\n",
    "    \n",
    "    def best_stop(trips, lat, lon):\n",
    "        \"\"\"Get the best corresponding stop for a list of trips\"\"\"\n",
    "        possible_stop_ids = list(stop_times[stop_times[\"trip_id\"].isin(list(trips))][\"stop_id\"].drop_duplicates())\n",
    "        test = stops[stops[\"stop_id\"].isin(possible_stop_ids)][[\"stop_name\", \"stop_id\",\"stop_lat\", \"stop_lon\"]]\n",
    "        test[\"lat\"] = [lat] * len(test)\n",
    "        test[\"lon\"] = [lon] * len(test)\n",
    "        distances = []\n",
    "        for index, row in test.iterrows():\n",
    "            distance = abs(d((row[\"stop_lat\"],row[\"stop_lon\"]),(row[\"lat\"], row[\"lon\"])).km)\n",
    "            distances.append(distance)\n",
    "        test[\"distances\"] = distances\n",
    "        test = test.sort_values(by=\"distances\")\n",
    "        print(test[:1][\"stop_name\"].values[0])\n",
    "        return test[:1][\"stop_name\"].values[0], test[:1][\"stop_id\"].values[0]\n",
    "    \n",
    "    def trips_with_origin_destination_day_route(trips, o_id, d_id):\n",
    "        start = set(stop_times[stop_times[\"stop_id\"] == o_id][\"trip_id\"].values)\n",
    "        end = set(stop_times[stop_times[\"stop_id\"] == d_id][\"trip_id\"].values)\n",
    "        trips = start.intersection(end)\n",
    "        trips = trips.intersection(trips)\n",
    "        return trips\n",
    "    \n",
    "    def trips_correct_dir(trips, o_id, d_id):\n",
    "        I, O = None, None\n",
    "        for trip in r:\n",
    "            if re.search(\".I$\", trip):\n",
    "                I = trip\n",
    "                break\n",
    "        for trip in r:\n",
    "            if re.search(\".O$\", trip):\n",
    "                O = trip\n",
    "                break\n",
    "                \n",
    "        correct_direction = []\n",
    "        if O != None and ((stop_times[(stop_times[\"trip_id\"] == O) & (stop_times[\"stop_id\"] == o_id)][\"stop_sequence\"].values[\n",
    "                    0]) < (stop_times[(stop_times[\"trip_id\"] == O) & (stop_times[\"stop_id\"] == d_id)][\n",
    "                            \"stop_sequence\"].values[0])):\n",
    "            correct_direction = [trip for trip in r if re.search(\".O$\", trip)]\n",
    "        elif I != None and (\n",
    "                (stop_times[(stop_times[\"trip_id\"] == I) & (stop_times[\"stop_id\"] == o_id)][\"stop_sequence\"].values[\n",
    "                    0]) < (                        stop_times[(stop_times[\"trip_id\"] == I) & (stop_times[\"stop_id\"] == d_id)][\n",
    "                            \"stop_sequence\"].values[0])):\n",
    "            correct_direction = [trip for trip in r if re.search(\".I$\", trip)]    \n",
    "        return set(correct_direction)\n",
    "    \n",
    "    def best_trip_for_time(r, departure, stop_id):\n",
    "        final = stop_times[(stop_times[\"trip_id\"].isin(r)) & (stop_times[\"stop_id\"] == stop_id)][\n",
    "            [\"trip_id\", \"arrival_time\"]]\n",
    "        final[\"arrival_time\"] = abs(final[\"arrival_time\"] - pd.to_timedelta(departure))\n",
    "        final = final.sort_values(by=\"arrival_time\")\n",
    "        #print(final)\n",
    "        tripid = final.iloc[0][\"trip_id\"]   \n",
    "        return tripid\n",
    "    \n",
    "    def station_to_station(tripid, o_id, d_id):\n",
    "        seq = stop_times[stop_times[\"trip_id\"] == tripid][[\"stop_id\", \"stop_sequence\"]].sort_values(by=\"stop_sequence\")\n",
    "        rstart = seq[seq[\"stop_id\"] == o_id].index[0]\n",
    "        rfin = seq[seq[\"stop_id\"] == d_id].index[0]\n",
    "        test = seq.loc[rstart:rfin]\n",
    "        final = test.merge(stops, how='left', on='stop_id')\n",
    "        flist = list(final[\"stop_name\"].values)\n",
    "        flist = [stop.split(\" stop \")[1] for stop in flist]\n",
    "        final_routes = []\n",
    "        for i in range(len(flist) - 1):\n",
    "            final_routes.append(flist[i] + \"_\" + flist[i+1])\n",
    "        final_routes\n",
    "        return final_routes    \n",
    "    \n",
    "    r = trips_day(day).intersection(trips_route(bus_route)) # get intersection of trips for that route and day\n",
    "    o_name, o_id = best_stop(r, olat, olng)\n",
    "    d_name, d_id = best_stop(r, dlat, dlng)\n",
    "    r = trips_with_origin_destination_day_route(r, o_id, d_id)\n",
    "    r = trips_correct_dir(r, o_id, d_id)\n",
    "    tripid = best_trip_for_time(r, departure, o_id)\n",
    "    station_route = station_to_station(tripid, o_id, d_id)\n",
    "    return station_route\n",
    "    "
   ]
  },
  {
   "cell_type": "code",
   "execution_count": 12,
   "metadata": {},
   "outputs": [
    {
     "name": "stdout",
     "output_type": "stream",
     "text": [
      "UCD Belfield, stop 768\n",
      "Dawson Street, stop 793\n"
     ]
    },
    {
     "data": {
      "text/plain": [
       "['768_769',\n",
       " '769_770',\n",
       " '770_771',\n",
       " '771_772',\n",
       " '772_773',\n",
       " '773_774',\n",
       " '774_775',\n",
       " '775_776',\n",
       " '776_777',\n",
       " '777_779',\n",
       " '779_780',\n",
       " '780_781',\n",
       " '781_782',\n",
       " '782_783',\n",
       " '783_784',\n",
       " '784_785',\n",
       " '785_786',\n",
       " '786_793']"
      ]
     },
     "execution_count": 12,
     "metadata": {},
     "output_type": "execute_result"
    }
   ],
   "source": [
    "get_route(departure, origin[0], origin[1], destination[0], destination[1], day, bus_route)"
   ]
  },
  {
   "cell_type": "code",
   "execution_count": null,
   "metadata": {
    "scrolled": false
   },
   "outputs": [],
   "source": [
    "get_route(departure, origin, destination, day, bus_route)"
   ]
  },
  {
   "cell_type": "code",
   "execution_count": null,
   "metadata": {},
   "outputs": [],
   "source": [
    "flist = ['404',\n",
    " '747',\n",
    " '748',\n",
    " '749',\n",
    " '750',\n",
    " '751',\n",
    " '752',\n",
    " '753',\n",
    " '754',\n",
    " '755',\n",
    " '756',\n",
    " '757',\n",
    " '758',\n",
    " '759',\n",
    " '760',\n",
    " '761',\n",
    " '762',\n",
    " '763',\n",
    " '767']"
   ]
  },
  {
   "cell_type": "code",
   "execution_count": null,
   "metadata": {},
   "outputs": [],
   "source": [
    "len(flist)"
   ]
  },
  {
   "cell_type": "code",
   "execution_count": null,
   "metadata": {},
   "outputs": [],
   "source": [
    "final_routes = []\n",
    "for i in range(len(flist) - 1):\n",
    "    final_routes.append(flist[i] + \"_\" + flist[i+1])\n",
    "final_routes"
   ]
  },
  {
   "cell_type": "code",
   "execution_count": null,
   "metadata": {},
   "outputs": [],
   "source": [
    "test"
   ]
  },
  {
   "cell_type": "code",
   "execution_count": null,
   "metadata": {},
   "outputs": [],
   "source": [
    "days = list(calendar[calendar[day] == 1][\"service_id\"].values)"
   ]
  },
  {
   "cell_type": "code",
   "execution_count": null,
   "metadata": {},
   "outputs": [],
   "source": [
    "day_trips = set(trips[trips[\"service_id\"].isin(days)][\"trip_id\"].values)"
   ]
  },
  {
   "cell_type": "code",
   "execution_count": null,
   "metadata": {},
   "outputs": [],
   "source": [
    "route_trips = set(trips[trips[\"route_id\"].isin(list(routes[routes[\"route_short_name\"] == bus_route][\"route_id\"].values))][\"trip_id\"].values)"
   ]
  },
  {
   "cell_type": "code",
   "execution_count": null,
   "metadata": {},
   "outputs": [],
   "source": [
    "start_trips = stops[stops[\"stop_name\"] == origin][\"stop_id\"].values[0]\n",
    "end_trips = stops[stops[\"stop_name\"] == destination][\"stop_id\"].values[0]"
   ]
  },
  {
   "cell_type": "code",
   "execution_count": null,
   "metadata": {},
   "outputs": [],
   "source": [
    "start_trips"
   ]
  },
  {
   "cell_type": "code",
   "execution_count": null,
   "metadata": {},
   "outputs": [],
   "source": [
    "start  = set(stop_times[stop_times[\"stop_id\"] == start_trips][\"trip_id\"].values)\n",
    "end  = set(stop_times[stop_times[\"stop_id\"] == end_trips][\"trip_id\"].values)"
   ]
  },
  {
   "cell_type": "code",
   "execution_count": null,
   "metadata": {},
   "outputs": [],
   "source": [
    "end"
   ]
  },
  {
   "cell_type": "code",
   "execution_count": null,
   "metadata": {},
   "outputs": [],
   "source": [
    "for trip in end:\n",
    "    if \"39A\" in trip:\n",
    "        print(trip)"
   ]
  },
  {
   "cell_type": "code",
   "execution_count": null,
   "metadata": {},
   "outputs": [],
   "source": [
    "for trip in start:\n",
    "    if \"39A\" in trip:\n",
    "        print(trip)"
   ]
  },
  {
   "cell_type": "code",
   "execution_count": null,
   "metadata": {},
   "outputs": [],
   "source": [
    "r = start.intersection(end)\n",
    "r = r.intersection(route_trips)\n",
    "r = r.intersection(day_trips)"
   ]
  },
  {
   "cell_type": "code",
   "execution_count": null,
   "metadata": {},
   "outputs": [],
   "source": [
    "r"
   ]
  },
  {
   "cell_type": "code",
   "execution_count": null,
   "metadata": {},
   "outputs": [],
   "source": [
    "for trip in r:\n",
    "    if \"39A\" in trip:\n",
    "        print(trip)"
   ]
  },
  {
   "cell_type": "code",
   "execution_count": null,
   "metadata": {},
   "outputs": [],
   "source": [
    "I = None\n",
    "O = None\n",
    "\n",
    "for trip in r:\n",
    "    if re.search(\".I$\", trip):\n",
    "        I = trip\n",
    "        break\n",
    "        \n",
    "for trip in r:\n",
    "    if re.search(\".O$\", trip):\n",
    "        O = trip\n",
    "        break\n",
    "print(O)\n",
    "print(I)"
   ]
  },
  {
   "cell_type": "code",
   "execution_count": null,
   "metadata": {},
   "outputs": [],
   "source": [
    "if O != None and ((stop_times[(stop_times[\"trip_id\"] == O) & (stop_times[\"stop_id\"] == start)][\"stop_sequence\"].values[0]) < (stop_times[(stop_times[\"trip_id\"] == O) & (stop_times[\"stop_id\"] == end)][\"stop_sequence\"].values[0])):\n",
    "    correct_direction = [trip for trip in r if re.search(\".O$\", trip)]\n",
    "elif I != None and ((stop_times[(stop_times[\"trip_id\"] == I) & (stop_times[\"stop_id\"] == start)][\"stop_sequence\"].values[0]) < (stop_times[(stop_times[\"trip_id\"] == I) & (stop_times[\"stop_id\"] == end)][\"stop_sequence\"].values[0])):\n",
    "    correct_direction = [trip for trip in r if re.search(\".I$\", trip)]"
   ]
  },
  {
   "cell_type": "code",
   "execution_count": null,
   "metadata": {},
   "outputs": [],
   "source": [
    "final = stop_times[(stop_times[\"trip_id\"].isin(correct_direction)) & (stop_times[\"stop_id\"] == start)][[\"trip_id\",\"arrival_time\"]]\n",
    "final[\"arrival_time\"] = abs(final[\"arrival_time\"] - pd.to_timedelta(departure))\n",
    "final = final.sort_values(by=\"arrival_time\")"
   ]
  },
  {
   "cell_type": "code",
   "execution_count": null,
   "metadata": {},
   "outputs": [],
   "source": [
    "final"
   ]
  },
  {
   "cell_type": "code",
   "execution_count": null,
   "metadata": {},
   "outputs": [],
   "source": [
    "tripid = final.iloc[0][\"trip_id\"]"
   ]
  },
  {
   "cell_type": "code",
   "execution_count": null,
   "metadata": {},
   "outputs": [],
   "source": [
    "seq = stop_times[stop_times[\"trip_id\"] == tripid][[\"stop_id\", \"stop_sequence\"]].sort_values(by=\"stop_sequence\")"
   ]
  },
  {
   "cell_type": "code",
   "execution_count": null,
   "metadata": {},
   "outputs": [],
   "source": [
    "rstart = seq[seq[\"stop_id\"] == start].index[0]"
   ]
  },
  {
   "cell_type": "code",
   "execution_count": null,
   "metadata": {},
   "outputs": [],
   "source": [
    "rfin = seq[seq[\"stop_id\"] == end].index[0]"
   ]
  },
  {
   "cell_type": "code",
   "execution_count": null,
   "metadata": {},
   "outputs": [],
   "source": [
    "test = seq.loc[rstart:rfin]"
   ]
  },
  {
   "cell_type": "code",
   "execution_count": null,
   "metadata": {},
   "outputs": [],
   "source": [
    "final = test.merge(stops, how='left', on='stop_id')"
   ]
  },
  {
   "cell_type": "code",
   "execution_count": null,
   "metadata": {},
   "outputs": [],
   "source": [
    "flist = list(final[\"stop_name\"].values)\n",
    "flist = [stop.split(\" stop \")[1] for stop in flist]\n",
    "flist"
   ]
  },
  {
   "cell_type": "code",
   "execution_count": null,
   "metadata": {},
   "outputs": [],
   "source": [
    "from datetime import datetime"
   ]
  },
  {
   "cell_type": "code",
   "execution_count": null,
   "metadata": {},
   "outputs": [],
   "source": [
    "datetime.fromtimestamp(1.62639e+18/ 1e9).strftime(\"%H\")"
   ]
  },
  {
   "cell_type": "code",
   "execution_count": null,
   "metadata": {},
   "outputs": [],
   "source": [
    "\"00:14:40\".split(\":\")[1]"
   ]
  },
  {
   "cell_type": "code",
   "execution_count": 13,
   "metadata": {},
   "outputs": [],
   "source": [
    "t1 = {'Monday': 0, 'Tuesday': 0, 'Wednesday': 0, 'Thursday': 0, 'Friday': 0, 'Saturday': 1, 'Sunday': 0, 'timetabledtimes': 25.51075757972846, 'distance': -1.0302552736568087, 'rain': 0.0, 'temp': 13.550000000000011, 'rhum': 94.0, 'msl': 1025.0, 'holiday': 0, 'hour_0': 0, 'hour_1': 0, 'hour_5': 0, 'hour_6': 0, 'hour_7': 0, 'hour_8': 0, 'hour_9': 0, 'hour_10': 0, 'hour_11': 0, 'hour_12': 0, 'hour_13': 0, 'hour_15': 0, 'hour_16': 0, 'hour_17': 1, 'hour_18': 0, 'hour_19': 0, 'hour_20': 0, 'hour_21': 0, 'hour_22': 0, 'hour_23': 0}"
   ]
  },
  {
   "cell_type": "code",
   "execution_count": 20,
   "metadata": {},
   "outputs": [
    {
     "data": {
      "text/plain": [
       "34"
      ]
     },
     "execution_count": 20,
     "metadata": {},
     "output_type": "execute_result"
    }
   ],
   "source": [
    "len(t1)"
   ]
  },
  {
   "cell_type": "code",
   "execution_count": 18,
   "metadata": {},
   "outputs": [],
   "source": [
    "t2 = ['Monday','Tuesday','Wednesday','Thursday','Friday','Saturday','Sunday','timetabledtimes','distances','rain','temp','rhum','msl','holiday','hour_0','hour_1','hour_5','hour_6','hour_7','hour_8','hour_9','hour_10','hour_11','hour_12','hour_13','hour_14','hour_15','hour_16','hour_17','hour_18','hour_19','hour_20','hour_21','hour_22','hour_23']"
   ]
  },
  {
   "cell_type": "code",
   "execution_count": 22,
   "metadata": {},
   "outputs": [
    {
     "name": "stdout",
     "output_type": "stream",
     "text": [
      "distances\n",
      "hour_14\n"
     ]
    }
   ],
   "source": [
    "for t in t2:\n",
    "    if t not in t1.keys():\n",
    "        print(t)"
   ]
  },
  {
   "cell_type": "code",
   "execution_count": 19,
   "metadata": {},
   "outputs": [
    {
     "data": {
      "text/plain": [
       "35"
      ]
     },
     "execution_count": 19,
     "metadata": {},
     "output_type": "execute_result"
    }
   ],
   "source": [
    "len(t2)"
   ]
  },
  {
   "cell_type": "code",
   "execution_count": 17,
   "metadata": {},
   "outputs": [
    {
     "data": {
      "text/plain": [
       "\"Monday','Tuesday','Wednesday','Thursday','Friday','Saturday','Sunday','timetabledtimes','distances','rain','temp','rhum','msl','holiday','hour_0','hour_1','hour_5','hour_6','hour_7','hour_8','hour_9','hour_10','hour_11','hour_12','hour_13','hour_14','hour_15','hour_16','hour_17','hour_18','hour_19','hour_20','hour_21','hour_22','hour_23\""
      ]
     },
     "execution_count": 17,
     "metadata": {},
     "output_type": "execute_result"
    }
   ],
   "source": [
    "t2 = \"\"\"Monday\n",
    "Tuesday\n",
    "Wednesday\n",
    "Thursday\n",
    "Friday\n",
    "Saturday\n",
    "Sunday\n",
    "timetabledtimes\n",
    "distances\n",
    "rain\n",
    "temp\n",
    "rhum\n",
    "msl\n",
    "holiday\n",
    "hour_0\n",
    "hour_1\n",
    "hour_5\n",
    "hour_6\n",
    "hour_7\n",
    "hour_8\n",
    "hour_9\n",
    "hour_10\n",
    "hour_11\n",
    "hour_12\n",
    "hour_13\n",
    "hour_14\n",
    "hour_15\n",
    "hour_16\n",
    "hour_17\n",
    "hour_18\n",
    "hour_19\n",
    "hour_20\n",
    "hour_21\n",
    "hour_22\n",
    "hour_23\"\"\"\n",
    "t2.replace(\"\\n\", \"','\")"
   ]
  },
  {
   "cell_type": "code",
   "execution_count": 14,
   "metadata": {},
   "outputs": [
    {
     "data": {
      "text/plain": [
       "34"
      ]
     },
     "execution_count": 14,
     "metadata": {},
     "output_type": "execute_result"
    }
   ],
   "source": [
    "len(t1)"
   ]
  },
  {
   "cell_type": "code",
   "execution_count": null,
   "metadata": {},
   "outputs": [],
   "source": []
  }
 ],
 "metadata": {
  "kernelspec": {
   "display_name": "Python 3",
   "language": "python",
   "name": "python3"
  },
  "language_info": {
   "codemirror_mode": {
    "name": "ipython",
    "version": 3
   },
   "file_extension": ".py",
   "mimetype": "text/x-python",
   "name": "python",
   "nbconvert_exporter": "python",
   "pygments_lexer": "ipython3",
   "version": "3.8.3"
  }
 },
 "nbformat": 4,
 "nbformat_minor": 5
}
